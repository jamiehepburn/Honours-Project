{
 "cells": [
  {
   "cell_type": "code",
   "execution_count": 1,
   "id": "20d80c36",
   "metadata": {},
   "outputs": [
    {
     "name": "stdout",
     "output_type": "stream",
     "text": [
      "****\n"
     ]
    }
   ],
   "source": [
    "from   astropy.io import fits\n",
    "from astropy.table import Table\n",
    "import numpy as np\n",
    "import os\n",
    "import optparse\n",
    "import warnings\n",
    "warnings.filterwarnings('ignore')\n",
    "from matplotlib.tri import Triangulation, TriAnalyzer\n",
    "import code\n",
    "import scipy\n",
    "import scipy.ndimage\n",
    "\n",
    "import glob\n",
    "from os import path\n",
    "\n",
    "import matplotlib\n",
    "import matplotlib.pyplot       as     plt\n",
    "from   mpl_toolkits.axes_grid1 import AxesGrid\n",
    "from   matplotlib.ticker       import MultipleLocator, FuncFormatter\n",
    "from matplotlib import cm\n",
    "\n",
    "from plotbin.sauron_colormap import register_sauron_colormap\n",
    "register_sauron_colormap()\n",
    "\n",
    "print(\"****\")"
   ]
  },
  {
   "cell_type": "code",
   "execution_count": 2,
   "id": "e9f33a14",
   "metadata": {},
   "outputs": [],
   "source": [
    "indir = 'C:\\\\Users\\\\hepbu\\\\Documents\\\\2021\\\\Honours Project\\\\SAMI DATA\\\\EAGLE SIMULATIONS\\\\NEW_FILES\\\\'\n",
    "figdir = 'C:\\\\Users\\\\hepbu\\\\Documents\\\\2021\\\\Honours Project\\\\SAMI DATA\\\\EAGLE SIMULATIONS\\\\IMAGES\\\\'\n"
   ]
  },
  {
   "cell_type": "code",
   "execution_count": 10,
   "id": "77e97739",
   "metadata": {},
   "outputs": [],
   "source": [
    "file1 = 'C:\\\\Users\\\\hepbu\\\\Documents\\\\2021\\\\Honours Project\\\\SAMI DATA\\\\SimSpin_EAGLE_observations_snap28_RefL0100N1504.txt'\n",
    "tst = Table.read(file1, format  = 'ascii')"
   ]
  },
  {
   "cell_type": "code",
   "execution_count": 11,
   "id": "2ccc45a4",
   "metadata": {},
   "outputs": [
    {
     "data": {
      "text/html": [
       "<i>Table length=903</i>\n",
       "<table id=\"table2258053697608\" class=\"table-striped table-bordered table-condensed\">\n",
       "<thead><tr><th>GalaxyID</th><th>GroupNumber</th><th>SubGroupNumber</th><th>StellarMass_subfind</th><th>StellarMass_50kpc</th><th>StellarMass_ss_i90</th><th>StellarMass_ss_i60</th><th>r50_halfmass</th><th>r50_halfmass_proj</th><th>r50_lum</th><th>NumberOfParticles_subfind</th><th>NumberOfParticles_50kpc</th><th>NumberOfParticles_ss_i90</th><th>NumberOfParticles_ss_i60</th><th>PixelSize</th><th>LambdaR_i90</th><th>LambdaR_i60</th><th>LambdaR_lagos</th><th>Ellip_i90</th><th>Ellip_i60</th></tr></thead>\n",
       "<thead><tr><th>int32</th><th>int32</th><th>int32</th><th>str12</th><th>str12</th><th>float64</th><th>str16</th><th>float64</th><th>float64</th><th>float64</th><th>int32</th><th>int32</th><th>int32</th><th>int32</th><th>float64</th><th>float64</th><th>float64</th><th>float64</th><th>float64</th><th>float64</th></tr></thead>\n",
       "<tr><td>13935854</td><td>1</td><td>6</td><td>84959511000</td><td>79915950000</td><td>48303487381.75</td><td>44164459202</td><td>7.017046</td><td>5.2929597</td><td>5.84049</td><td>58988</td><td>59073</td><td>33644</td><td>30498</td><td>1.47326110894402</td><td>0.566069256565209</td><td>0.522755199839302</td><td>0.725344</td><td>0.814474415933448</td><td>0.500940126447324</td></tr>\n",
       "<tr><td>13945981</td><td>1</td><td>8</td><td>73415156000</td><td>63611249000</td><td>37294174204.5</td><td>37751425798.5</td><td>8.067293</td><td>6.1731033</td><td>8.83797</td><td>55041</td><td>55607</td><td>31210</td><td>31631</td><td>1.71885888225306</td><td>0.325620140512009</td><td>0.262179605376089</td><td>0.201945</td><td>0.590032354630757</td><td>0.334394810890819</td></tr>\n",
       "<tr><td>8058402</td><td>1</td><td>9</td><td>69201748000</td><td>64705946000</td><td>36416123867.5</td><td>35591561361.75</td><td>8.496039</td><td>6.227539</td><td>9.37677</td><td>52158</td><td>52174</td><td>27688</td><td>27004</td><td>1.73264828152661</td><td>0.0983718573258317</td><td>0.0854015665150268</td><td>0.0945193</td><td>0.467637030486606</td><td>0.259217584938622</td></tr>\n",
       "<tr><td>8071905</td><td>1</td><td>13</td><td>102878282000</td><td>96114835000</td><td>56071598677.75</td><td>53432132237</td><td>7.884777</td><td>5.971071</td><td>8.84586</td><td>75732</td><td>76308</td><td>42366</td><td>40271</td><td>1.65896632293316</td><td>0.255254121061631</td><td>0.234451874415563</td><td>0.363349</td><td>0.575462829681449</td><td>0.429726137106007</td></tr>\n",
       "<tr><td>8083281</td><td>1</td><td>16</td><td>58621927000</td><td>57773756000</td><td>34123515095.5</td><td>30004309708.125</td><td>7.9417133</td><td>5.7089643</td><td>7.09093</td><td>42515</td><td>42517</td><td>23946</td><td>20844</td><td>1.58957890361521</td><td>0.56761600597466</td><td>0.515320601134932</td><td>0.714833</td><td>0.659117615276358</td><td>0.372964054807628</td></tr>\n",
       "<tr><td>8088440</td><td>1</td><td>19</td><td>33280972800</td><td>32904851500</td><td>19040745285.75</td><td>17097127830.6875</td><td>6.57154</td><td>4.871291</td><td>7.47428</td><td>24411</td><td>24417</td><td>13624</td><td>12194</td><td>1.35609708314391</td><td>0.528461459811834</td><td>0.498754555222886</td><td>0.737242</td><td>0.792546928826637</td><td>0.524261374464961</td></tr>\n",
       "<tr><td>8097696</td><td>1</td><td>23</td><td>49867510000</td><td>49549922000</td><td>29423051891.5625</td><td>25628156811.5</td><td>6.0401106</td><td>4.421983</td><td>5.21633</td><td>36328</td><td>36530</td><td>20269</td><td>17379</td><td>1.2286012346562</td><td>0.58886188192254</td><td>0.527655032073493</td><td>0.670153</td><td>0.684174451449402</td><td>0.448992864819189</td></tr>\n",
       "<tr><td>8099173</td><td>1</td><td>24</td><td>53823058000</td><td>53274718000</td><td>30900653991.5625</td><td>26935907548.75</td><td>6.8554378</td><td>4.9852533</td><td>6.80789</td><td>39597</td><td>39630</td><td>22217</td><td>19348</td><td>1.38429400534143</td><td>0.514637696125272</td><td>0.458479238371205</td><td>0.631197</td><td>0.740102003738964</td><td>0.43678543497334</td></tr>\n",
       "<tr><td>8111397</td><td>1</td><td>28</td><td>29393317900</td><td>29182994400</td><td>17012376632.8125</td><td>15109753951.8125</td><td>5.5762534</td><td>4.2120214</td><td>5.52138</td><td>22188</td><td>22192</td><td>12466</td><td>10993</td><td>1.17161454822306</td><td>0.429855653138825</td><td>0.37190800089033</td><td>0.636824</td><td>0.688458636421005</td><td>0.365555350415289</td></tr>\n",
       "<tr><td>8116061</td><td>1</td><td>32</td><td>20903049200</td><td>20787925000</td><td>12511169978.5625</td><td>10982165839.875</td><td>6.257284</td><td>4.6750603</td><td>5.66687</td><td>15765</td><td>15787</td><td>9107</td><td>7932</td><td>1.29955568138931</td><td>0.436613502055987</td><td>0.397053254447144</td><td>0.651115</td><td>0.698373284318976</td><td>0.436235356425774</td></tr>\n",
       "<tr><td>...</td><td>...</td><td>...</td><td>...</td><td>...</td><td>...</td><td>...</td><td>...</td><td>...</td><td>...</td><td>...</td><td>...</td><td>...</td><td>...</td><td>...</td><td>...</td><td>...</td><td>...</td><td>...</td><td>...</td></tr>\n",
       "<tr><td>11269143</td><td>3164</td><td>0</td><td>10588225500</td><td>10556710900</td><td>6169871149.4375</td><td>5343377991.375</td><td>6.182471</td><td>4.5611405</td><td>5.98818</td><td>8190</td><td>8190</td><td>4646</td><td>4004</td><td>1.26648208530183</td><td>0.503115223021138</td><td>0.499198993032403</td><td>0.685822</td><td>0.615406616201075</td><td>0.467418418248391</td></tr>\n",
       "<tr><td>11287892</td><td>3194</td><td>0</td><td>15283797000</td><td>15188633600</td><td>9227746767.6875</td><td>8286502633.1875</td><td>6.279622</td><td>4.8373604</td><td>5.68298</td><td>11753</td><td>11753</td><td>6868</td><td>6124</td><td>1.34668719113439</td><td>0.418208277913166</td><td>0.382001169963641</td><td>0.63208</td><td>0.628575609621595</td><td>0.220259124975339</td></tr>\n",
       "<tr><td>11304435</td><td>3222</td><td>0</td><td>10326133800</td><td>10258761700</td><td>6334296137.125</td><td>5414695464.125</td><td>8.314149</td><td>6.227823</td><td>8.25765</td><td>8093</td><td>8094</td><td>4918</td><td>4181</td><td>1.73264828152661</td><td>0.461627760775352</td><td>0.441208658917313</td><td>0.699358</td><td>0.747711128489438</td><td>0.419710215381655</td></tr>\n",
       "<tr><td>11318262</td><td>3246</td><td>0</td><td>16974152700</td><td>16907544600</td><td>10184502840.8125</td><td>8965146763.875</td><td>6.0031834</td><td>4.5233016</td><td>4.84442</td><td>13015</td><td>13017</td><td>7521</td><td>6562</td><td>1.25702012647279</td><td>0.507657959916727</td><td>0.458763138312068</td><td>0.683687</td><td>0.743831187973247</td><td>0.490938915807028</td></tr>\n",
       "<tr><td>11339147</td><td>3281</td><td>0</td><td>10760047600</td><td>10691686400</td><td>6123114521.4375</td><td>5645748676.9375</td><td>5.2948356</td><td>4.0566287</td><td>5.9426</td><td>8383</td><td>8383</td><td>4642</td><td>4273</td><td>1.1287438478639</td><td>0.340490806365277</td><td>0.326776168225952</td><td>0.571911</td><td>0.527444839025107</td><td>0.414482928843108</td></tr>\n",
       "<tr><td>11893575</td><td>4032</td><td>0</td><td>11337494500</td><td>11293645800</td><td>6826090471.375</td><td>6012876410.6875</td><td>5.4938283</td><td>4.2045593</td><td>4.81609</td><td>8680</td><td>8680</td><td>4955</td><td>4299</td><td>1.16685667681384</td><td>0.472335423861632</td><td>0.427493464448461</td><td>0.590902</td><td>0.696623923673057</td><td>0.41791043200914</td></tr>\n",
       "<tr><td>11907563</td><td>4060</td><td>0</td><td>12396382200</td><td>12333802500</td><td>7278750384.0625</td><td>6514635400.6875</td><td>5.653207</td><td>4.1746836</td><td>5.31939</td><td>9530</td><td>9530</td><td>5353</td><td>4750</td><td>1.16209742155841</td><td>0.389127088796037</td><td>0.409914989154187</td><td>0.565073</td><td>0.662775060597814</td><td>0.494347871324509</td></tr>\n",
       "<tr><td>11984724</td><td>4222</td><td>0</td><td>20703115300</td><td>20080345100</td><td>11361998995.5625</td><td>10705873104</td><td>5.2432485</td><td>3.957917</td><td>5.5348</td><td>15961</td><td>15961</td><td>8437</td><td>7891</td><td>1.10010096069056</td><td>0.401292589707621</td><td>0.35366960255884</td><td>0.522544</td><td>0.431167683816078</td><td>0.352417650079997</td></tr>\n",
       "<tr><td>12008777</td><td>4272</td><td>0</td><td>17783683100</td><td>17665368100</td><td>10020270946.6875</td><td>9089259339.4375</td><td>5.255489</td><td>3.919595</td><td>5.39091</td><td>13719</td><td>13720</td><td>7466</td><td>6749</td><td>1.09054221346621</td><td>0.406010250005653</td><td>0.397855072914186</td><td>0.557201</td><td>0.711159842536959</td><td>0.438838563066321</td></tr>\n",
       "<tr><td>12067212</td><td>4402</td><td>0</td><td>12257500200</td><td>12228019200</td><td>7046131135.125</td><td>6382782651.6875</td><td>5.26641</td><td>3.9938815</td><td>5.43754</td><td>9545</td><td>9545</td><td>5277</td><td>4741</td><td>1.10965414633037</td><td>0.528715449862103</td><td>0.522338564398329</td><td>0.669183</td><td>0.674205187431635</td><td>0.626190138957937</td></tr>\n",
       "</table>"
      ],
      "text/plain": [
       "<Table length=903>\n",
       "GalaxyID GroupNumber SubGroupNumber ...     Ellip_i90         Ellip_i60    \n",
       " int32      int32        int32      ...      float64           float64     \n",
       "-------- ----------- -------------- ... ----------------- -----------------\n",
       "13935854           1              6 ... 0.814474415933448 0.500940126447324\n",
       "13945981           1              8 ... 0.590032354630757 0.334394810890819\n",
       " 8058402           1              9 ... 0.467637030486606 0.259217584938622\n",
       " 8071905           1             13 ... 0.575462829681449 0.429726137106007\n",
       " 8083281           1             16 ... 0.659117615276358 0.372964054807628\n",
       " 8088440           1             19 ... 0.792546928826637 0.524261374464961\n",
       " 8097696           1             23 ... 0.684174451449402 0.448992864819189\n",
       " 8099173           1             24 ... 0.740102003738964  0.43678543497334\n",
       " 8111397           1             28 ... 0.688458636421005 0.365555350415289\n",
       " 8116061           1             32 ... 0.698373284318976 0.436235356425774\n",
       "     ...         ...            ... ...               ...               ...\n",
       "11269143        3164              0 ... 0.615406616201075 0.467418418248391\n",
       "11287892        3194              0 ... 0.628575609621595 0.220259124975339\n",
       "11304435        3222              0 ... 0.747711128489438 0.419710215381655\n",
       "11318262        3246              0 ... 0.743831187973247 0.490938915807028\n",
       "11339147        3281              0 ... 0.527444839025107 0.414482928843108\n",
       "11893575        4032              0 ... 0.696623923673057  0.41791043200914\n",
       "11907563        4060              0 ... 0.662775060597814 0.494347871324509\n",
       "11984724        4222              0 ... 0.431167683816078 0.352417650079997\n",
       "12008777        4272              0 ... 0.711159842536959 0.438838563066321\n",
       "12067212        4402              0 ... 0.674205187431635 0.626190138957937"
      ]
     },
     "execution_count": 11,
     "metadata": {},
     "output_type": "execute_result"
    }
   ],
   "source": [
    "tst"
   ]
  },
  {
   "cell_type": "code",
   "execution_count": 14,
   "id": "e96be52a",
   "metadata": {},
   "outputs": [],
   "source": [
    "lam = tst.field('LambdaR_lagos')\n",
    "id1 = tst.field('GalaxyID')\n",
    "ids = tst['GalaxyID']\n",
    "lambda60 = tst['LambdaR_i60']\n",
    "ellip60 = tst['Ellip_i60']\n",
    "ids = np.array(ids)\n",
    "lambda60 = np.array(lambda60)\n",
    "ellip60 = np.array(ellip60)"
   ]
  },
  {
   "cell_type": "code",
   "execution_count": 15,
   "id": "982d497c",
   "metadata": {},
   "outputs": [
    {
     "data": {
      "text/plain": [
       "0.872337"
      ]
     },
     "execution_count": 15,
     "metadata": {},
     "output_type": "execute_result"
    }
   ],
   "source": [
    "np.max(lam)"
   ]
  },
  {
   "cell_type": "code",
   "execution_count": 22,
   "id": "7f1e0b1a",
   "metadata": {},
   "outputs": [
    {
     "data": {
      "text/plain": [
       "(903,)"
      ]
     },
     "execution_count": 22,
     "metadata": {},
     "output_type": "execute_result"
    }
   ],
   "source": [
    "np.shape(ids)"
   ]
  },
  {
   "cell_type": "code",
   "execution_count": 23,
   "id": "44c3d916",
   "metadata": {},
   "outputs": [
    {
     "data": {
      "text/plain": [
       "13935854"
      ]
     },
     "execution_count": 23,
     "metadata": {},
     "output_type": "execute_result"
    }
   ],
   "source": [
    "ids[0]"
   ]
  },
  {
   "cell_type": "code",
   "execution_count": 17,
   "id": "0a3d265c",
   "metadata": {},
   "outputs": [],
   "source": [
    "lambdar = np.array(lam)"
   ]
  },
  {
   "cell_type": "code",
   "execution_count": 21,
   "id": "b5721ee1",
   "metadata": {},
   "outputs": [],
   "source": [
    "aa = np.save('C:\\\\Users\\\\hepbu\\\\Documents\\\\2021\\\\Honours Project\\\\SAMI DATA\\\\TRAINING_DATA\\\\lagosids.npy', ids)"
   ]
  },
  {
   "cell_type": "code",
   "execution_count": 16,
   "id": "ff82abea",
   "metadata": {},
   "outputs": [],
   "source": [
    "# tst[307]"
   ]
  },
  {
   "cell_type": "code",
   "execution_count": 3,
   "id": "9348a196",
   "metadata": {},
   "outputs": [],
   "source": [
    "files = glob.glob(indir + '*.FITS')\n",
    "new_files = []\n",
    "for file in files:\n",
    "    if 'fwhm00' in file:\n",
    "        new_files.append(file)\n"
   ]
  },
  {
   "cell_type": "code",
   "execution_count": 4,
   "id": "7b3830cf",
   "metadata": {},
   "outputs": [
    {
     "data": {
      "text/plain": [
       "3164"
      ]
     },
     "execution_count": 4,
     "metadata": {},
     "output_type": "execute_result"
    }
   ],
   "source": [
    "np.size(new_files)"
   ]
  },
  {
   "cell_type": "code",
   "execution_count": 22,
   "id": "1f4bb808",
   "metadata": {},
   "outputs": [
    {
     "data": {
      "text/plain": [
       "3164"
      ]
     },
     "execution_count": 22,
     "metadata": {},
     "output_type": "execute_result"
    }
   ],
   "source": [
    "np.size(files)"
   ]
  },
  {
   "cell_type": "code",
   "execution_count": 20,
   "id": "01945d4f",
   "metadata": {},
   "outputs": [],
   "source": [
    "# X_vals_classified = np.save('C:\\\\Users\\\\hepbu\\\\Documents\\\\2021\\\\Honours Project\\\\SAMI DATA\\\\TRAINING_DATA\\\\EAGLE_lambda', lambda60)\n",
    "# X1_vals_classified = np.save('C:\\\\Users\\\\hepbu\\\\Documents\\\\2021\\\\Honours Project\\\\SAMI DATA\\\\TRAINING_DATA\\\\EAGLE_ellip', ellip60)\n",
    "# X2_vals_classified = np.save('C:\\\\Users\\\\hepbu\\\\Documents\\\\2021\\\\Honours Project\\\\SAMI DATA\\\\TRAINING_DATA\\\\EAGLE_ID2', ids)"
   ]
  },
  {
   "cell_type": "code",
   "execution_count": 5,
   "id": "fa3c9bed",
   "metadata": {},
   "outputs": [],
   "source": [
    "# path2 = 'C:\\\\Users\\\\hepbu\\\\Documents\\\\2021\\\\Honours Project\\\\SAMI DATA\\\\TRAINING_DATA\\\\'\n",
    "# rrr = tst.write('eagle_test.fits', format = 'fits')"
   ]
  },
  {
   "cell_type": "code",
   "execution_count": 26,
   "id": "ce011ef3",
   "metadata": {},
   "outputs": [],
   "source": [
    "def read_eagle(file): #read the stellar population results\n",
    "    #read age data\n",
    "    table_hdu = fits.open(file)\n",
    "    \n",
    "    stelkin      = np.empty((np.shape(table_hdu[2].data)))\n",
    "    stelkin[0,:,:] = table_hdu[4].data[1,:,:]\n",
    "    stelkin[1,:,:] = table_hdu[4].data[2,:,:]\n",
    "    stelkin[2,:,:] = table_hdu[4].data[0,:,:]\n",
    "    stelkin[3,:,:] = table_hdu[4].data[3,:,:]\n",
    "    \n",
    "    return stelkin\n",
    "    "
   ]
  },
  {
   "cell_type": "code",
   "execution_count": 9,
   "id": "b84acc1d",
   "metadata": {},
   "outputs": [
    {
     "data": {
      "text/plain": [
       "XTENSION= 'IMAGE   '           / IMAGE extension                                \n",
       "BITPIX  =                  -32 / number of bits per data pixel                  \n",
       "NAXIS   =                    3 / number of data axes                            \n",
       "NAXIS1  =                   30 / length of data axis 1                          \n",
       "NAXIS2  =                   30 / length of data axis 2                          \n",
       "NAXIS3  =                    4 / length of data axis 3                          \n",
       "PCOUNT  =                    0 / required keyword; must = 0                     \n",
       "GCOUNT  =                    1 / required keyword; must = 1                     \n",
       "EXTNAME = 'INC_90  '           / This extension contains data values            \n",
       "HDUCLASS= 'ESO     '           / class name (ESO format)                        \n",
       "HDUDOC  = 'DICD    '           / document with class description                \n",
       "HDUVERS = 'DCID version 6'     / version number (according to spec v2.5.1)      \n",
       "PSF     =                    0 / Full-width half-maximum of the PSF             \n",
       "REDSHIFT=   0.0489408140814081 / Observed galaxy redshift                       \n",
       "HIERARCH  INCLINATION =     90 / Observed inclination                           \n",
       "ELLIP   =    0.599084415975079 / Ellipticity at half-light isophote             \n",
       "ELLIPERR=   0.0433815843059353 / Error on ellipticity                           \n",
       "LAMBDAR =    0.324779665621074 / Spin parameter within Re                       \n",
       "VSIGMA  =    0.333123964793409 / V/Sigma within Re                              \n",
       "RADHI   =      3.8268474845834 / Semi-major axis, arcsec                        \n",
       "OBJECT  = 'EAGLE GalaxyID10026631' / simulation and galaxy ID number            \n",
       "BUNIT   = 'Msol--kms-1--kms-1--count' / Angstrom                                \n",
       "CRPIX1  =                    1 / Pixel coordinate of reference point            \n",
       "CRPIX2  =                    1 / Pixel coordinate of reference point            \n",
       "CD1_1   = -0.000138888888888889 / Coordinate transformation matrix element      \n",
       "CD1_2   =                    0 / Coordinate transformation matrix element       \n",
       "CD2_1   =                    0 / Coordinate transformation matrix element       \n",
       "CD2_2   = 0.000138888888888889 / Coordinate transformation matrix element       \n",
       "CUNIT1  = 'deg     '           / Units of coordinate increment and value        \n",
       "CUNIT2  = 'deg     '           / Units of coordinate increment and value        \n",
       "CTYPE1  = 'RA---TAN'           / Right ascension, gnomonic projection           \n",
       "CTYPE2  = 'DEC--TAN'           / Declination, gnomonic projection               \n",
       "CSYER1  = '        '           / [deg] Systematic error in coordinate           \n",
       "CSYER2  = '        '           / [deg] Systematic error in coordinate           \n",
       "CRVAL1  = -0.00201388888888889 / Pixel value at reference point                 \n",
       "CRVAL2  = -0.00201388888888889 / Pixel value at reference point                 \n",
       "CTYPE3  = 'Mass/Velocity/Dispersion/ParticleCount' / Image type                 \n",
       "CUNIT3  = '        '           / Units of coordinate increment and value        \n",
       "CD3_3   =                    0 / Coordinate transformation matrix element       \n",
       "CRPIX3  =                    1 / Pixel coordinate of reference point            \n",
       "CRVAL3  =                    0 / Pixel value at reference point                 \n",
       "CD1_3   =                    0 / Coordinate transformation matrix element       \n",
       "CD2_3   =                    0 / Coordinate transformation matrix element       \n",
       "CD3_1   =                    0 / Coordinate transformation matrix element       \n",
       "CD3_2   =                    0 / Coordinate transformation matrix element       "
      ]
     },
     "execution_count": 9,
     "metadata": {},
     "output_type": "execute_result"
    }
   ],
   "source": [
    "a = fits.open(new_files[15])\n",
    "a[5].header"
   ]
  },
  {
   "cell_type": "code",
   "execution_count": 7,
   "id": "7a57fd62",
   "metadata": {},
   "outputs": [],
   "source": [
    "# files = glob.glob(indir + '*.FITS')\n",
    "# print(files[0])\n",
    "\n",
    "# fig = plt.figure()\n",
    "\n",
    "# columns = 9\n",
    "# rows = 9\n",
    "# fi = 0\n",
    "# pixelsize = 0.5\n",
    "    \n",
    "# fig, ax_array = plt.subplots(rows, columns,squeeze=False,figsize=(20,20))\n",
    "# for i,ax_row in enumerate(ax_array):\n",
    "#     for j,axes in enumerate(ax_row):\n",
    "#         #axes.set_title('{},{}'.format(i,j))\n",
    "#         #axes.set_yticklabels([])\n",
    "#         #axes.set_xticklabels([])\n",
    " \n",
    "#         if fi%3 == 0:\n",
    "#             file = files[fi]\n",
    "#             stelkin = read_eagle(file)\n",
    "\n",
    "#             axes.tick_params(direction='in')\n",
    "\n",
    "#             # Create image in pixels\n",
    "#             val = np.squeeze(stelkin[2,:,:])\n",
    "#         if fi%3 == 1:\n",
    "#             val = np.squeeze(stelkin[0,:,:])\n",
    "#         if fi%3 == 2:\n",
    "#             val = np.squeeze(stelkin[1,:,:])\n",
    "\n",
    "#         vmin = np.nanmin(val)        \n",
    "#         vmax = np.nanmax(val)\n",
    "#         # Create image in pixels\n",
    "#         xmin = (len(val[0,:])-len(val[0,:])/2) * pixelsize * -1\n",
    "#         xmax = ((len(val[0,:])/2) * pixelsize)\n",
    "#         ymin = (len(val[:,0])-len(val[:,0])/2) * pixelsize * -1\n",
    "#         ymax = ((len(val[:,0])/2) * pixelsize)\n",
    "#         image = val\n",
    "\n",
    "#         cmap_array = ['inferno','RdYlBu_r','YlOrRd']\n",
    "#         tmp = axes.imshow(image, cmap=cmap_array[fi%3], interpolation=None, vmin=vmin, vmax=vmax, \\\n",
    "#                 extent=[xmin-pixelsize/2, xmax+pixelsize/2, ymin-pixelsize/2, ymax+pixelsize/2] )\n",
    "        \n",
    "#         fi += 1\n",
    "        \n",
    "# plt.savefig(figdir+'jvds_eagle_sim_maps.pdf', bbox_inches='tight', pad_inches=0.3)\n",
    "        \n",
    "# plt.show()"
   ]
  },
  {
   "cell_type": "code",
   "execution_count": 36,
   "id": "4de8a83a",
   "metadata": {},
   "outputs": [],
   "source": [
    "files = glob.glob(indir + '*.FITS')\n",
    "stelkin = read_eagle(files[0])\n",
    "sig = stelkin[1,:,:]"
   ]
  },
  {
   "cell_type": "code",
   "execution_count": 13,
   "id": "78274bda",
   "metadata": {},
   "outputs": [],
   "source": [
    "# hdu = fits.open(files[0])\n",
    "# GID = hdu[1].data[0][0]\n",
    "# m_sol = hdu[1].data[0][1]\n",
    "# m_sol50 = hdu[1].data[0][2]\n",
    "# r50_star = hdu[1].data[0][3]\n",
    "# r50_star_proj = hdu[1].data[0][4]\n",
    "# re_r  = hdu[1].data[0][5]\n",
    "# z = hdu[1].data[0][6]"
   ]
  },
  {
   "cell_type": "code",
   "execution_count": 39,
   "id": "99c9f12b",
   "metadata": {},
   "outputs": [],
   "source": [
    "eagle_GID = []\n",
    "eagle_m_sol = []\n",
    "eagle_m_sol50  = []\n",
    "eagle_r50 = []\n",
    "eagle_r50_proj = []\n",
    "eagle_z = []\n",
    "eagle_re_r = []\n",
    "eagle_ang = []\n",
    "eagle_radhi = []\n",
    "stuff = np.zeros((np.size(new_files), 4))\n",
    "\n",
    "\n",
    "for i in range(0, np.size(new_files)):\n",
    "    hdu = fits.open(new_files[i])\n",
    "    GID = int(hdu[1].data[0][0])\n",
    "    m_sol = hdu[1].data[0][1]\n",
    "    log_m_sol = np.log10(m_sol)\n",
    "    m_sol50 = hdu[1].data[0][2]\n",
    "    log_m_sol50 = np.log10(m_sol50)\n",
    "    \n",
    "    r50_star = hdu[1].data[0][3]\n",
    "    r50_star_proj = hdu[1].data[0][4]\n",
    "    re_r  = hdu[1].data[0][5]\n",
    "    z = hdu[1].data[0][6]\n",
    "    ang = hdu[1].data[0][7]\n",
    "       \n",
    "    try:\n",
    "        radhi = hdu[5].header['RADHI']  \n",
    "    except:\n",
    "         radhi = np.NaN\n",
    "            \n",
    "    try:\n",
    "        ellip90 = hdu[5].header['ELLIP']\n",
    "        lambdar90 = hdu[5].header['LAMBDAR']\n",
    "        ellip60 = hdu[4].header['ELLIP']\n",
    "        lambdar60 = hdu[4].header['LAMBDAR']\n",
    "    \n",
    "        stuff[i, 0] = ellip90\n",
    "        stuff[i, 1] = lambdar90\n",
    "        stuff[i, 2] = ellip60\n",
    "        stuff[i, 3] = lambdar60\n",
    "    \n",
    "    except:\n",
    "        stuff[i, 0] = np.NaN\n",
    "        stuff[i, 1] = np.NaN\n",
    "        stuff[i, 2] = np.NaN\n",
    "        stuff[i, 3] = np.NaN\n",
    "    \n",
    "    eagle_GID.append(GID)\n",
    "    eagle_m_sol.append(log_m_sol)\n",
    "    eagle_m_sol50.append(log_m_sol50)\n",
    "    eagle_r50.append(r50_star)\n",
    "    eagle_r50_proj.append(r50_star_proj)\n",
    "    eagle_re_r.append(re_r)\n",
    "    eagle_z.append(z)\n",
    "    eagle_ang.append(ang)\n",
    "    eagle_radhi.append(radhi)\n",
    "    \n",
    "eagle_GID = np.array(eagle_GID)\n",
    "eagle_m_sol = np.array(eagle_m_sol)\n",
    "eagle_m_sol50  = np.array(eagle_m_sol50)\n",
    "eagle_r50 = np.array(eagle_r50)\n",
    "eagle_r50_proj = np.array(eagle_r50_proj)\n",
    "eagle_re_r = np.array(eagle_re_r)\n",
    "eagle_z = np.array(eagle_z)\n",
    "eagle_ang = np.array(eagle_ang)\n",
    "eagle_radhi = np.array(eagle_radhi)"
   ]
  },
  {
   "cell_type": "code",
   "execution_count": 40,
   "id": "0b676291",
   "metadata": {},
   "outputs": [
    {
     "data": {
      "text/plain": [
       "(3164,)"
      ]
     },
     "execution_count": 40,
     "metadata": {},
     "output_type": "execute_result"
    }
   ],
   "source": [
    "np.shape(eagle_radhi)"
   ]
  },
  {
   "cell_type": "code",
   "execution_count": 43,
   "id": "e16106c5",
   "metadata": {},
   "outputs": [
    {
     "data": {
      "text/plain": [
       "5.59498970510652"
      ]
     },
     "execution_count": 43,
     "metadata": {},
     "output_type": "execute_result"
    }
   ],
   "source": [
    "eagle_radhi[1275]"
   ]
  },
  {
   "cell_type": "code",
   "execution_count": 44,
   "id": "95145e1d",
   "metadata": {},
   "outputs": [
    {
     "data": {
      "text/plain": [
       "(3164,)"
      ]
     },
     "execution_count": 44,
     "metadata": {},
     "output_type": "execute_result"
    }
   ],
   "source": [
    "np.shape(eagle_GID)"
   ]
  },
  {
   "cell_type": "code",
   "execution_count": 41,
   "id": "48466034",
   "metadata": {},
   "outputs": [],
   "source": [
    "lambdar90 = stuff[:, 1]\n",
    "ellip90 = stuff[:, 0]\n",
    "lambdar60 = stuff[:, 3]\n",
    "ellip60 = stuff[:, 2]"
   ]
  },
  {
   "cell_type": "code",
   "execution_count": 42,
   "id": "ee0a813c",
   "metadata": {},
   "outputs": [
    {
     "data": {
      "text/plain": [
       "(array([1275], dtype=int64),)"
      ]
     },
     "execution_count": 42,
     "metadata": {},
     "output_type": "execute_result"
    }
   ],
   "source": [
    "np.where(eagle_GID == 16555698)"
   ]
  },
  {
   "cell_type": "code",
   "execution_count": 44,
   "id": "286f98ae",
   "metadata": {},
   "outputs": [],
   "source": [
    "array = []\n",
    "for i in eagle_ID2:\n",
    "#     print(i)\n",
    "    array.append(i)"
   ]
  },
  {
   "cell_type": "code",
   "execution_count": 46,
   "id": "05d38f6f",
   "metadata": {},
   "outputs": [],
   "source": [
    "X_vals_classified = np.save('C:\\\\Users\\\\hepbu\\\\Documents\\\\2021\\\\Honours Project\\\\SAMI DATA\\\\TRAINING_DATA\\\\EAGLE_ID_0510', eagle_GID)\n",
    "X_vals_classified = np.save('C:\\\\Users\\\\hepbu\\\\Documents\\\\2021\\\\Honours Project\\\\SAMI DATA\\\\TRAINING_DATA\\\\EAGLE_M_SOL_0510', eagle_m_sol)\n",
    "Z_vals_classified = np.save('C:\\\\Users\\\\hepbu\\\\Documents\\\\2021\\\\Honours Project\\\\SAMI DATA\\\\TRAINING_DATA\\\\EAGLE_M_SOL50_0510', eagle_m_sol50)\n",
    "Z_vals_classified = np.save('C:\\\\Users\\\\hepbu\\\\Documents\\\\2021\\\\Honours Project\\\\SAMI DATA\\\\TRAINING_DATA\\\\EAGLE_R50_0510', eagle_r50)\n",
    "Z_vals_classified = np.save('C:\\\\Users\\\\hepbu\\\\Documents\\\\2021\\\\Honours Project\\\\SAMI DATA\\\\TRAINING_DATA\\\\EAGLE_R50_PROJ_0510', eagle_r50_proj)\n",
    "Z_vals_classified = np.save('C:\\\\Users\\\\hepbu\\\\Documents\\\\2021\\\\Honours Project\\\\SAMI DATA\\\\TRAINING_DATA\\\\EAGLE_RE_R_0510', eagle_re_r)\n",
    "Z_vals_classified = np.save('C:\\\\Users\\\\hepbu\\\\Documents\\\\2021\\\\Honours Project\\\\SAMI DATA\\\\TRAINING_DATA\\\\EAGLE_Z_0510', eagle_z)\n",
    "Z_vals_classified = np.save('C:\\\\Users\\\\hepbu\\\\Documents\\\\2021\\\\Honours Project\\\\SAMI DATA\\\\TRAINING_DATA\\\\EAGLE_ANG_0510', eagle_ang)\n",
    "Z_vals_classified = np.save('C:\\\\Users\\\\hepbu\\\\Documents\\\\2021\\\\Honours Project\\\\SAMI DATA\\\\TRAINING_DATA\\\\EAGLE_radhi_0510', eagle_radhi)\n",
    "Z_vals_classified = np.save('C:\\\\Users\\\\hepbu\\\\Documents\\\\2021\\\\Honours Project\\\\SAMI DATA\\\\TRAINING_DATA\\\\EAGLE_lambdar60_0510', lambdar60)\n",
    "Z_vals_classified = np.save('C:\\\\Users\\\\hepbu\\\\Documents\\\\2021\\\\Honours Project\\\\SAMI DATA\\\\TRAINING_DATA\\\\EAGLE_lambdar90_0510', lambdar60)\n",
    "Z_vals_classified = np.save('C:\\\\Users\\\\hepbu\\\\Documents\\\\2021\\\\Honours Project\\\\SAMI DATA\\\\TRAINING_DATA\\\\EAGLE_ellip60_0510', ellip60)\n",
    "Z_vals_classified = np.save('C:\\\\Users\\\\hepbu\\\\Documents\\\\2021\\\\Honours Project\\\\SAMI DATA\\\\TRAINING_DATA\\\\EAGLE_ellip90_0510', ellip90)"
   ]
  },
  {
   "cell_type": "code",
   "execution_count": 48,
   "id": "8d9e1689",
   "metadata": {},
   "outputs": [
    {
     "data": {
      "text/plain": [
       "3164"
      ]
     },
     "execution_count": 48,
     "metadata": {},
     "output_type": "execute_result"
    }
   ],
   "source": [
    "np.size(files)"
   ]
  },
  {
   "cell_type": "code",
   "execution_count": 51,
   "id": "d3a3bcfa",
   "metadata": {},
   "outputs": [],
   "source": [
    "# files = glob.glob(indir + '*.FITS')\n",
    "files = new_files\n",
    "# tests = []\n",
    "num_goods = []\n",
    "training_data_eagle = []\n",
    "maxmin = []\n",
    "ratios = []\n",
    "sigs = []\n",
    "for i in range(0, np.size(files)):\n",
    "#     print(i)\n",
    "    table = fits.open(files[i])\n",
    "    \n",
    "    galaxyIDfull = table[2].header['OBJECT']\n",
    "    \n",
    "    GID = galaxyIDfull[14:]\n",
    "#     print(GID)\n",
    "    \n",
    "    stelkin = read_eagle(files[i])\n",
    "    vel = stelkin[0,:,:]\n",
    "    sig = stelkin[1,:,:]\n",
    "    pix = stelkin[3,:,:]\n",
    "\n",
    "    vel_3sigmax = np.nanmean(vel) + 3*np.nanstd(vel)\n",
    "    vel_3sigmin = np.nanmean(vel) - 3*np.nanstd(vel)\n",
    "    sig_3sigmax = np.nanmean(sig) + 3*np.nanstd(sig)\n",
    "    \n",
    "    vel = np.where((pix > 25) & (vel < vel_3sigmax) & (vel > vel_3sigmin) & (sig < sig_3sigmax), vel, np.NaN)  \n",
    "    sig = np.where((pix > 25) & (vel < vel_3sigmax) & (vel > vel_3sigmin) & (sig < sig_3sigmax), sig, np.NaN)  \n",
    "    \n",
    "    max_vel = np.nanmax(vel)\n",
    "    min_vel = np.nanmin(vel)\n",
    "    max_sig = np.nanmax(sig)\n",
    "    min_sig = np.nanmin(sig)\n",
    "    \n",
    "    maxmin.append([min_vel, max_vel, min_sig, max_sig])\n",
    "    \n",
    "    num_good = np.sum(np.where(pix > 25, 1, 0))\n",
    "    num_goods.append(num_good)\n",
    "        \n",
    "#     test = np.where((pix > 25) & (vel < vel_3sigmax) & (vel > vel_3sigmin) & (sig < sig_3sigmax), 1, np.NaN)\n",
    "#     test = np.where((pix > 50) & (vel < vel_3sigmax) & (vel > vel_3sigmin) & (sig < sig_3sigmax), 2, test)\n",
    "#     test = np.where((pix > 75) & (vel < vel_3sigmax) & (vel > vel_3sigmin) & (sig < sig_3sigmax), 3, test)\n",
    "#     test = np.where((pix > 100) & (vel < vel_3sigmax) & (vel > vel_3sigmin) & (sig < sig_3sigmax), 4, test)\n",
    "    \n",
    "#     tests.append(test)\n",
    "        \n",
    "#     vel = np.where((pix > 25), vel, np.NaN)\n",
    "#     sig = np.where(pix > 25, sig, np.NaN)\n",
    "    \n",
    "    emp = np.empty((30,10))\n",
    "    emp[:] = np.NaN\n",
    "    \n",
    "    emp2 = np.empty((10,50))\n",
    "    emp2[:] = np.NaN\n",
    "    \n",
    "    vel = np.concatenate((emp, vel, emp), axis = 1)\n",
    "    sig = np.concatenate((emp, sig, emp), axis = 1)\n",
    "\n",
    "    vel = np.concatenate((emp2, vel, emp2), axis = 0)\n",
    "    sig = np.concatenate((emp2, sig, emp2), axis = 0)\n",
    "    \n",
    "    \n",
    "    sig_use = np.nanpercentile(sig, 95) \n",
    "    sigs.append(sig_use)\n",
    "\n",
    "#     vel = np.where(vel > sig_use, sig_use, vel)\n",
    "    \n",
    "    vel99 = np.nanmax(vel)\n",
    "    ratio = vel99/sig_use\n",
    "    \n",
    "    if ratio > 1:\n",
    "        ratio = 1\n",
    "    if ratio < 0:\n",
    "        ratio = 0\n",
    "        \n",
    "    ratios.append(ratio)\n",
    "    \n",
    "    vel = (vel - np.nanmin(vel))/(np.nanmax(vel) - np.nanmin(vel))\n",
    "    vel = np.nan_to_num(vel, nan = 0.5)\n",
    "    \n",
    "    vel_scaled = (2*vel)-1 \n",
    "    \n",
    "    vel_scaled = vel_scaled*ratio\n",
    "    \n",
    "    vel_scaled = (vel_scaled+1)/2\n",
    "    \n",
    "    sig = (sig - np.nanmin(sig))/(np.nanmax(sig) - np.nanmin(sig))\n",
    "    sig = np.nan_to_num(sig, nan = 0)\n",
    "#     sig = sig*sigratio\n",
    "   \n",
    "    training_data_eagle.append([vel, sig, GID, vel_scaled])"
   ]
  },
  {
   "cell_type": "code",
   "execution_count": 53,
   "id": "3caea478",
   "metadata": {},
   "outputs": [
    {
     "data": {
      "text/plain": [
       "(array([ 49., 215., 379., 415., 386., 338., 296., 253., 237., 596.]),\n",
       " array([0.14567226, 0.23110503, 0.31653781, 0.40197058, 0.48740335,\n",
       "        0.57283613, 0.6582689 , 0.74370168, 0.82913445, 0.91456723,\n",
       "        1.        ]),\n",
       " <BarContainer object of 10 artists>)"
      ]
     },
     "execution_count": 53,
     "metadata": {},
     "output_type": "execute_result"
    },
    {
     "data": {
      "image/png": "[encoded data removed]",
      "text/plain": [
       "<Figure size 432x288 with 1 Axes>"
      ]
     },
     "metadata": {
      "needs_background": "light"
     },
     "output_type": "display_data"
    }
   ],
   "source": [
    "plt.hist(ratios)"
   ]
  },
  {
   "cell_type": "code",
   "execution_count": 52,
   "id": "58db9d83",
   "metadata": {},
   "outputs": [
    {
     "data": {
      "text/plain": [
       "(3164, 4)"
      ]
     },
     "execution_count": 52,
     "metadata": {},
     "output_type": "execute_result"
    }
   ],
   "source": [
    "np.shape(training_data_eagle)"
   ]
  },
  {
   "cell_type": "code",
   "execution_count": 12,
   "id": "8203c010",
   "metadata": {},
   "outputs": [
    {
     "data": {
      "text/plain": [
       "(array([  9.,  46., 132., 352., 352., 229., 152.,  94.,  53.,  16.]),\n",
       " array([-0.34098317, -0.1694343 ,  0.00211457,  0.17366344,  0.34521231,\n",
       "         0.51676117,  0.68831004,  0.85985891,  1.03140778,  1.20295665,\n",
       "         1.37450551]),\n",
       " <BarContainer object of 10 artists>)"
      ]
     },
     "execution_count": 12,
     "metadata": {},
     "output_type": "execute_result"
    },
    {
     "data": {
      "image/png": "[encoded data removed]",
      "text/plain": [
       "<Figure size 432x288 with 1 Axes>"
      ]
     },
     "metadata": {
      "needs_background": "light"
     },
     "output_type": "display_data"
    }
   ],
   "source": [
    "plt.hist(ratios)"
   ]
  },
  {
   "cell_type": "code",
   "execution_count": 65,
   "id": "7428d132",
   "metadata": {},
   "outputs": [],
   "source": [
    "maxmin1 = np.array(maxmin)\n",
    "vmin = maxmin1[:,0]\n",
    "vmax = maxmin1[:,1]\n",
    "smin = maxmin1[:,2]\n",
    "smax = maxmin1[:,3]"
   ]
  },
  {
   "cell_type": "code",
   "execution_count": 66,
   "id": "7008cd94",
   "metadata": {},
   "outputs": [],
   "source": [
    "X_vals_classified = np.save('C:\\\\Users\\\\hepbu\\\\Documents\\\\2021\\\\Honours Project\\\\SAMI DATA\\\\TRAINING_DATA\\\\EAGLE_vmin_051021', vmin)\n",
    "X_vals_classified = np.save('C:\\\\Users\\\\hepbu\\\\Documents\\\\2021\\\\Honours Project\\\\SAMI DATA\\\\TRAINING_DATA\\\\EAGLE_vmax_051021', vmax)\n",
    "Z_vals_classified = np.save('C:\\\\Users\\\\hepbu\\\\Documents\\\\2021\\\\Honours Project\\\\SAMI DATA\\\\TRAINING_DATA\\\\EAGLE_smin_051021', smin)\n",
    "Z_vals_classified = np.save('C:\\\\Users\\\\hepbu\\\\Documents\\\\2021\\\\Honours Project\\\\SAMI DATA\\\\TRAINING_DATA\\\\EAGLE_smax_051021', smax)\n",
    "\n",
    "# Z_vals_classified = np.save('C:\\\\Users\\\\hepbu\\\\Documents\\\\2021\\\\Honours Project\\\\SAMI DATA\\\\TRAINING_DATA\\\\EAGLE_ellip60_140921', ellip)\n",
    "# Z_vals_classified = np.save('C:\\\\Users\\\\hepbu\\\\Documents\\\\2021\\\\Honours Project\\\\SAMI DATA\\\\TRAINING_DATA\\\\EAGLE_lambdar60_140921', lambdar)\n"
   ]
  },
  {
   "cell_type": "code",
   "execution_count": 87,
   "id": "d63d5c1d",
   "metadata": {},
   "outputs": [
    {
     "data": {
      "image/png": "[encoded data removed]",
      "text/plain": [
       "<Figure size 432x288 with 1 Axes>"
      ]
     },
     "metadata": {
      "needs_background": "light"
     },
     "output_type": "display_data"
    }
   ],
   "source": [
    "plt.hist(num_goods)\n",
    "plt.title('HISTOGRAM - NUMBER OF GOOD SPAXELS >25 (EAGLE)')\n",
    "plt.ylabel('N')\n",
    "plt.xlabel('NUM_SPAXELS')\n",
    "plt.show()"
   ]
  },
  {
   "cell_type": "code",
   "execution_count": 18,
   "id": "d442cd99",
   "metadata": {},
   "outputs": [],
   "source": [
    "median = np.nanmedian(ab)\n",
    "ab = np.nan_to_num(ab, median)"
   ]
  },
  {
   "cell_type": "code",
   "execution_count": 73,
   "id": "d1776e09",
   "metadata": {},
   "outputs": [],
   "source": [
    "ind = np.argpartition(num_goods, -5)[-5:]"
   ]
  },
  {
   "cell_type": "code",
   "execution_count": 74,
   "id": "d9a555eb",
   "metadata": {},
   "outputs": [
    {
     "data": {
      "text/plain": [
       "array([1076,  966, 1070, 1236, 1158], dtype=int64)"
      ]
     },
     "execution_count": 74,
     "metadata": {},
     "output_type": "execute_result"
    }
   ],
   "source": [
    "ind"
   ]
  },
  {
   "cell_type": "code",
   "execution_count": 78,
   "id": "390abecb",
   "metadata": {},
   "outputs": [
    {
     "data": {
      "image/png": "[encoded data removed]",
      "text/plain": [
       "<Figure size 432x288 with 2 Axes>"
      ]
     },
     "metadata": {
      "needs_background": "light"
     },
     "output_type": "display_data"
    }
   ],
   "source": [
    "n = 1070\n",
    "a = training_data_eagle[n][0]\n",
    "b = training_data_eagle[n][1]\n",
    "c = training_data_eagle[n][2]\n",
    "d = training_data_eagle[n][3]\n",
    "\n",
    "plt.pcolor(a, cmap = 'RdYlBu_r', vmin = 0, vmax = 1)\n",
    "plt.title(c)\n",
    "plt.colorbar()\n",
    "plt.show()"
   ]
  },
  {
   "cell_type": "code",
   "execution_count": 79,
   "id": "c52a8b91",
   "metadata": {},
   "outputs": [
    {
     "data": {
      "text/plain": [
       "<matplotlib.colorbar.Colorbar at 0x2341d963548>"
      ]
     },
     "execution_count": 79,
     "metadata": {},
     "output_type": "execute_result"
    },
    {
     "data": {
      "image/png": "[encoded data removed]",
      "text/plain": [
       "<Figure size 432x288 with 2 Axes>"
      ]
     },
     "metadata": {
      "needs_background": "light"
     },
     "output_type": "display_data"
    }
   ],
   "source": [
    "plt.pcolor(d, cmap = 'RdYlBu_r', vmin = 0, vmax = 1)\n",
    "plt.title(c)\n",
    "plt.colorbar()"
   ]
  },
  {
   "cell_type": "code",
   "execution_count": 80,
   "id": "c97d24e0",
   "metadata": {},
   "outputs": [
    {
     "data": {
      "text/plain": [
       "<matplotlib.colorbar.Colorbar at 0x2341db5d948>"
      ]
     },
     "execution_count": 80,
     "metadata": {},
     "output_type": "execute_result"
    },
    {
     "data": {
      "image/png": "[encoded data removed]",
      "text/plain": [
       "<Figure size 432x288 with 2 Axes>"
      ]
     },
     "metadata": {
      "needs_background": "light"
     },
     "output_type": "display_data"
    }
   ],
   "source": [
    "plt.pcolor(b, cmap = 'YlOrRd')\n",
    "plt.colorbar()"
   ]
  },
  {
   "cell_type": "code",
   "execution_count": 81,
   "id": "41a36be6",
   "metadata": {},
   "outputs": [],
   "source": [
    "X = []\n",
    "X1 = []\n",
    "Z = []\n",
    "Z2 = []\n",
    "\n",
    "for velmaps, sigmaps, catids, scvels in training_data_eagle:\n",
    "    X.append(velmaps)\n",
    "    X1.append(sigmaps)\n",
    "    Z.append(catids)\n",
    "    Z2.append(scvels)\n",
    "\n",
    "X = np.array(X).reshape(-1, 50,50, 1)\n",
    "X1 = np.array(X1).reshape(-1, 50,50, 1)\n",
    "Z = np.array(Z)\n",
    "Z2 = np.array(Z2).reshape(-1, 50,50, 1)"
   ]
  },
  {
   "cell_type": "code",
   "execution_count": 82,
   "id": "ed16f318",
   "metadata": {},
   "outputs": [
    {
     "data": {
      "text/plain": [
       "array(['10001175', '10003929', '10005161', '10006223', '10007496'],\n",
       "      dtype='<U8')"
      ]
     },
     "execution_count": 82,
     "metadata": {},
     "output_type": "execute_result"
    }
   ],
   "source": [
    "Z[0:5]"
   ]
  },
  {
   "cell_type": "code",
   "execution_count": 85,
   "id": "54719b37",
   "metadata": {},
   "outputs": [
    {
     "data": {
      "text/plain": [
       "(3164, 50, 50, 1)"
      ]
     },
     "execution_count": 85,
     "metadata": {},
     "output_type": "execute_result"
    }
   ],
   "source": [
    "np.shape(Z2)"
   ]
  },
  {
   "cell_type": "code",
   "execution_count": 88,
   "id": "295e4b2a",
   "metadata": {},
   "outputs": [
    {
     "data": {
      "text/plain": [
       "list"
      ]
     },
     "execution_count": 88,
     "metadata": {},
     "output_type": "execute_result"
    }
   ],
   "source": [
    "type(num_goods)"
   ]
  },
  {
   "cell_type": "code",
   "execution_count": 92,
   "id": "f2c3a1e9",
   "metadata": {},
   "outputs": [
    {
     "data": {
      "text/plain": [
       "(3164,)"
      ]
     },
     "execution_count": 92,
     "metadata": {},
     "output_type": "execute_result"
    }
   ],
   "source": [
    "np.shape(num_goods)"
   ]
  },
  {
   "cell_type": "code",
   "execution_count": 89,
   "id": "db2dea72",
   "metadata": {},
   "outputs": [],
   "source": [
    "num_goods = np.array(num_goods)"
   ]
  },
  {
   "cell_type": "code",
   "execution_count": 86,
   "id": "9ba827d7",
   "metadata": {},
   "outputs": [],
   "source": [
    "X_vals_classified = np.save('C:\\\\Users\\\\hepbu\\\\Documents\\\\2021\\\\Honours Project\\\\SAMI DATA\\\\TRAINING_DATA\\\\EAGLE_vel_0510', X)\n",
    "X1_vals_classified = np.save('C:\\\\Users\\\\hepbu\\\\Documents\\\\2021\\\\Honours Project\\\\SAMI DATA\\\\TRAINING_DATA\\\\EAGLE_sig_0510', X1)\n",
    "\n",
    "Z_vals_classified = np.save('C:\\\\Users\\\\hepbu\\\\Documents\\\\2021\\\\Honours Project\\\\SAMI DATA\\\\TRAINING_DATA\\\\EAGLE_ID_0510', Z)\n",
    "Z2_vals_classified = np.save('C:\\\\Users\\\\hepbu\\\\Documents\\\\2021\\\\Honours Project\\\\SAMI DATA\\\\TRAINING_DATA\\\\EAGLE_vel_sigscale_0510', Z2)\n"
   ]
  },
  {
   "cell_type": "code",
   "execution_count": 91,
   "id": "074ec28e",
   "metadata": {},
   "outputs": [],
   "source": [
    "Z2_vals_classified = np.save('C:\\\\Users\\\\hepbu\\\\Documents\\\\2021\\\\Honours Project\\\\SAMI DATA\\\\TRAINING_DATA\\\\EAGLE_numsp_0510', num_goods)\n"
   ]
  },
  {
   "cell_type": "code",
   "execution_count": null,
   "id": "8838b99f",
   "metadata": {},
   "outputs": [],
   "source": []
  },
  {
   "cell_type": "code",
   "execution_count": null,
   "id": "c92a2071",
   "metadata": {},
   "outputs": [],
   "source": []
  }
 ],
 "metadata": {
  "kernelspec": {
   "display_name": "Python 3",
   "language": "python",
   "name": "python3"
  },
  "language_info": {
   "codemirror_mode": {
    "name": "ipython",
    "version": 3
   },
   "file_extension": ".py",
   "mimetype": "text/x-python",
   "name": "python",
   "nbconvert_exporter": "python",
   "pygments_lexer": "ipython3",
   "version": "3.7.10"
  }
 },
 "nbformat": 4,
 "nbformat_minor": 5
}
