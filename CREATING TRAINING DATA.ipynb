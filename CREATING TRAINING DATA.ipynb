{
 "cells": [
  {
   "cell_type": "code",
   "execution_count": 1,
   "metadata": {},
   "outputs": [],
   "source": [
    "import numpy as np\n",
    "import matplotlib.pyplot as plt\n",
    "import matplotlib\n",
    "from matplotlib.colors import BoundaryNorm\n",
    "from astropy.io import fits\n",
    "from astropy.table import Table\n",
    "from pathlib import Path\n",
    "import os\n",
    "import math\n",
    "import glob\n",
    "from PIL import Image"
   ]
  },
  {
   "cell_type": "code",
   "execution_count": 2,
   "metadata": {},
   "outputs": [],
   "source": [
    "tablename = 'C:\\\\Users\\\\hepbu\\\\Documents\\\\2021\\\\Honours Project\\\\SAMI DATA\\\\jvds_stelkin_cat_v012_mge_seecorr_kh20_v150121_private-Copy1.fits'\n",
    "cat = Table.read(tablename, hdu=1)"
   ]
  },
  {
   "cell_type": "code",
   "execution_count": 16,
   "metadata": {},
   "outputs": [],
   "source": [
    "# make an array for each important dataset\n",
    "CATID = cat.field('CATID')\n",
    "CATID_EXT = cat.field('CATID_EXT')\n",
    "LMSTAR = cat.field('LMSTAR')\n",
    "KIN_MTYPE = cat.field('KIN_MTYPE')\n",
    "RE_CIRC_KPC = cat.field('RE_CIRC_KPC')\n",
    "SIGMA_RE = cat.field('SIGMA_RE')"
   ]
  },
  {
   "cell_type": "code",
   "execution_count": 17,
   "metadata": {},
   "outputs": [],
   "source": [
    "#define some constants for calculation of SIGMA_STAR\n",
    "\n",
    "MSOLAR = 1.98892e30\n",
    "G = 6.67300e-11\n",
    "kpctom = 3.08568025e19\n",
    "\n",
    "#function to calculate SIGMA_STAR\n",
    "\n",
    "def SIGMA_STAR_CALC(LMSTAR_VAL, RE_CIRC_VAL):\n",
    "    return math.sqrt(((10**LMSTAR_VAL)*MSOLAR*G)/(RE_CIRC_VAL*kpctom*5))/(1e3)\n",
    "\n",
    "#CALCULATE SIGMA_STAR and replace nans of SIGMA_RE with SIGMA_STAR\n",
    "\n",
    "SIGMA_STAR = []\n",
    "for i in range(LMSTAR.size):\n",
    "    SIGMA_STAR += [SIGMA_STAR_CALC(LMSTAR[i],RE_CIRC_KPC[i])]\n",
    "    \n",
    "SIGMA_STAR = np.array(SIGMA_STAR)\n",
    "\n",
    "NANS_SIGMA_RE = np.argwhere(np.isnan(SIGMA_RE))\n",
    "SIGMA_STAR_1 = SIGMA_STAR[NANS_SIGMA_RE]\n",
    "SIGMA_RE[NANS_SIGMA_RE] = SIGMA_STAR_1"
   ]
  },
  {
   "cell_type": "code",
   "execution_count": 18,
   "metadata": {},
   "outputs": [],
   "source": [
    "# Create an array of the CATID_EXT where the KIN_MTYPE is lower than 6\n",
    "classified = CATID[np.where(KIN_MTYPE < 6)] "
   ]
  },
  {
   "cell_type": "code",
   "execution_count": 59,
   "metadata": {},
   "outputs": [],
   "source": [
    "# Create an array of the CATID_EXT where the KIN_MTYPE is lower than 4\n",
    "classified_1 = CATID[np.where(KIN_MTYPE < 4)] \n",
    "classified_1_labels = KIN_MTYPE[np.where(KIN_MTYPE < 4)]\n",
    "classified_1_sigma_re = SIGMA_RE[np.where(KIN_MTYPE < 4)]"
   ]
  },
  {
   "cell_type": "code",
   "execution_count": 48,
   "metadata": {},
   "outputs": [],
   "source": [
    "classified_test = classified_1[0:10]"
   ]
  },
  {
   "cell_type": "code",
   "execution_count": 64,
   "metadata": {},
   "outputs": [
    {
     "name": "stderr",
     "output_type": "stream",
     "text": [
      "C:\\Users\\hepbu\\anaconda3\\lib\\site-packages\\ipykernel_launcher.py:21: RuntimeWarning: invalid value encountered in less\n",
      "C:\\Users\\hepbu\\anaconda3\\lib\\site-packages\\ipykernel_launcher.py:21: RuntimeWarning: invalid value encountered in greater\n",
      "C:\\Users\\hepbu\\anaconda3\\lib\\site-packages\\ipykernel_launcher.py:35: RuntimeWarning: invalid value encountered in greater\n",
      "C:\\Users\\hepbu\\anaconda3\\lib\\site-packages\\ipykernel_launcher.py:36: RuntimeWarning: invalid value encountered in less\n"
     ]
    }
   ],
   "source": [
    "training_data_1 = []\n",
    "\n",
    "for i in range(0,np.size(classified_1)):\n",
    "\n",
    "    catid_use = classified_1[i]\n",
    "    # search for file name\n",
    "    catid_use = str(catid_use)\n",
    "    filename = (glob.glob('C:\\\\Users\\\\hepbu\\\\Documents\\\\2021\\\\Honours Project\\\\SAMI DATA\\\\two_moments\\\\'+catid_use+'*.fits'))\n",
    "    filename = str(filename[0])\n",
    "    data = fits.open(filename)\n",
    "    # open the velocity & error & snr\n",
    "    vel = data['VEL'].data\n",
    "    vel_err = data['VEL_ERR'].data\n",
    "    # sig = data['SIG'].data\n",
    "    # sig_err = data['SIG_ERR'].data\n",
    "    qc = data['QC'].data\n",
    "    snr = qc[:,:,3]\n",
    "\n",
    "    #find where the conditions are met and filter out bad values\n",
    "\n",
    "    a = np.where((vel_err < 30) & (snr > 3), 1, np.NaN)\n",
    "    vel = np.multiply(vel,a)\n",
    "\n",
    "    centre = vel[23:26,23:26]\n",
    "    median = np.nanmedian(centre)\n",
    "    vel = vel - median\n",
    "\n",
    "    SIGMA_SCALE = classified_1_sigma_re[i]\n",
    "\n",
    "    if np.isnan(SIGMA_SCALE) == True:\n",
    "        SIGMA_SCALE = np.nanpercentile(np.absolute(vel),95)\n",
    "    else:\n",
    "        SIGMA_SCALE = SIGMA_SCALE\n",
    "\n",
    "    vel = np.where(vel > SIGMA_SCALE, SIGMA_SCALE, vel)\n",
    "    vel = np.where(vel < -SIGMA_SCALE, -SIGMA_SCALE, vel)\n",
    "\n",
    "    mean = np.nanmean(vel)\n",
    "    vel = np.nan_to_num(vel, mean)\n",
    "\n",
    "    vel = (vel - np.nanmin(vel))/(np.nanmax(vel) - np.nanmin(vel))\n",
    "    \n",
    "    class_num = classified_1_labels[i]\n",
    "    \n",
    "    training_data_1.append([vel, class_num])\n",
    "\n",
    "\n",
    "# plt.pcolor(vel, cmap = \"RdYlBu_r\")\n",
    "# plt.colorbar()\n",
    "\n",
    "# figure out how to save new 2D array (old method if nec as only doing 538 iterations)\n",
    "\n",
    "# scale the array using sigma to ensure that there is good variation and that the plots will look similar\n",
    "\n",
    "# make sure that the nan values are in the middle of the array\n",
    "\n",
    "# save the dataset as numpy arrays and then perform 5-fold cross validation on the data\n",
    "\n",
    "# figure out a way to plot the data that it gets wrong so that I can visually determine if there are any similarities \n",
    "# in the errors or correct answers\n",
    "\n",
    "# using the 5 fold validation method (coding tab) to make a list of incorrect maps and then separately plot?\n",
    "\n",
    "# create a confusion matrix of validation dataset for each of the five datasets\n",
    "\n",
    "# combine this notebook with create datasets colab and save into github\n",
    "\n",
    "# vel_flat = np.ndarray.flatten(vel)\n",
    "# abs_vel = np.absolute(vel_flat)\n",
    "# print(np.nanpercentile(abs_vel, 90"
   ]
  },
  {
   "cell_type": "code",
   "execution_count": 65,
   "metadata": {},
   "outputs": [
    {
     "data": {
      "text/plain": [
       "(538, 2)"
      ]
     },
     "execution_count": 65,
     "metadata": {},
     "output_type": "execute_result"
    }
   ],
   "source": [
    "np.shape(training_data_1)"
   ]
  },
  {
   "cell_type": "code",
   "execution_count": 67,
   "metadata": {},
   "outputs": [],
   "source": [
    "X = []\n",
    "y = []\n",
    "\n",
    "for features, label in training_data_1:\n",
    "  X.append(features)\n",
    "  y.append(label)\n",
    "\n",
    "X = np.array(X).reshape(-1, 50,50, 1)\n",
    "y = np.array(y)"
   ]
  },
  {
   "cell_type": "code",
   "execution_count": 70,
   "metadata": {},
   "outputs": [],
   "source": [
    "os.chdir('C:\\\\Users\\\\hepbu\\\\Documents\\\\2021\\\\Honours Project\\\\SAMI DATA\\\\')"
   ]
  },
  {
   "cell_type": "code",
   "execution_count": 71,
   "metadata": {},
   "outputs": [],
   "source": [
    "X_vals_classified = np.save('C:\\\\Users\\\\hepbu\\\\Documents\\\\2021\\\\Honours Project\\\\SAMI DATA\\\\KIN_TRAINING_DATA\\\\X', X)\n",
    "y_vals_classified = np.save('C:\\\\Users\\\\hepbu\\\\Documents\\\\2021\\\\Honours Project\\\\SAMI DATA\\\\KIN_TRAINING_DATA\\\\y', y)"
   ]
  },
  {
   "cell_type": "code",
   "execution_count": 12,
   "metadata": {},
   "outputs": [],
   "source": [
    "hdul = fits.open(SAMI_FITS[1])"
   ]
  },
  {
   "cell_type": "code",
   "execution_count": 62,
   "metadata": {},
   "outputs": [
    {
     "data": {
      "text/plain": [
       "(9, 2)"
      ]
     },
     "execution_count": 62,
     "metadata": {},
     "output_type": "execute_result"
    }
   ],
   "source": [
    "np.shape(training_data_1)"
   ]
  },
  {
   "cell_type": "code",
   "execution_count": 20,
   "metadata": {},
   "outputs": [],
   "source": [
    "VMAP = hdul[3].data\n",
    "VEL_ERR = hdul[4].data\n",
    "SIG = hdul[5].data\n",
    "SIG_ERR = hdul[6].data\n",
    "QC = hdul[8].data\n",
    "SNR = QC[:,:,3]"
   ]
  },
  {
   "cell_type": "code",
   "execution_count": 26,
   "metadata": {},
   "outputs": [
    {
     "data": {
      "text/plain": [
       "(50, 50)"
      ]
     },
     "execution_count": 26,
     "metadata": {},
     "output_type": "execute_result"
    }
   ],
   "source": [
    "np.shape(SNR)"
   ]
  },
  {
   "cell_type": "code",
   "execution_count": 30,
   "metadata": {},
   "outputs": [
    {
     "data": {
      "text/plain": [
       "<matplotlib.colorbar.Colorbar at 0x172064d1ec8>"
      ]
     },
     "execution_count": 30,
     "metadata": {},
     "output_type": "execute_result"
    },
    {
     "data": {
      "image/png": "[encoded data removed]",
      "text/plain": [
       "<Figure size 432x288 with 2 Axes>"
      ]
     },
     "metadata": {
      "needs_background": "light"
     },
     "output_type": "display_data"
    }
   ],
   "source": [
    "plt.pcolor(VMAP, cmap = 'RdYlBu_r')\n",
    "plt.colorbar()"
   ]
  },
  {
   "cell_type": "code",
   "execution_count": 27,
   "metadata": {},
   "outputs": [
    {
     "data": {
      "text/plain": [
       "(50, 50)"
      ]
     },
     "execution_count": 27,
     "metadata": {},
     "output_type": "execute_result"
    }
   ],
   "source": [
    "np.shape(VEL_ERR)"
   ]
  },
  {
   "cell_type": "code",
   "execution_count": 24,
   "metadata": {},
   "outputs": [
    {
     "name": "stderr",
     "output_type": "stream",
     "text": [
      "C:\\Users\\hepbu\\anaconda3\\lib\\site-packages\\ipykernel_launcher.py:1: RuntimeWarning: invalid value encountered in greater\n",
      "  \"\"\"Entry point for launching an IPython kernel.\n",
      "C:\\Users\\hepbu\\anaconda3\\lib\\site-packages\\ipykernel_launcher.py:1: RuntimeWarning: invalid value encountered in less\n",
      "  \"\"\"Entry point for launching an IPython kernel.\n"
     ]
    }
   ],
   "source": [
    "VMAP_good = np.where((SNR > 3) & (VEL_ERR < 30))"
   ]
  },
  {
   "cell_type": "code",
   "execution_count": 25,
   "metadata": {},
   "outputs": [
    {
     "data": {
      "text/plain": [
       "(2, 13)"
      ]
     },
     "execution_count": 25,
     "metadata": {},
     "output_type": "execute_result"
    }
   ],
   "source": [
    "np.shape(VMAP_good)"
   ]
  },
  {
   "cell_type": "code",
   "execution_count": null,
   "metadata": {},
   "outputs": [],
   "source": [
    "SNR = np.where(SNR > 3, 1, np.NaN)\n",
    "SIG_ERR = np.where(SIG_ERR < SIG*0.1 +25, 1, np.NaN)\n",
    "VEL_ERR = np.where(VEL_ERR < 30, 1, np.NaN)\n",
    "\n"
   ]
  },
  {
   "cell_type": "code",
   "execution_count": 36,
   "metadata": {},
   "outputs": [
    {
     "name": "stderr",
     "output_type": "stream",
     "text": [
      "C:\\Users\\hepbu\\anaconda3\\lib\\site-packages\\ipykernel_launcher.py:20: RuntimeWarning: invalid value encountered in greater\n",
      "C:\\Users\\hepbu\\anaconda3\\lib\\site-packages\\ipykernel_launcher.py:21: RuntimeWarning: invalid value encountered in less\n",
      "C:\\Users\\hepbu\\anaconda3\\lib\\site-packages\\ipykernel_launcher.py:22: RuntimeWarning: invalid value encountered in less\n",
      "C:\\Users\\hepbu\\anaconda3\\lib\\site-packages\\ipykernel_launcher.py:46: RuntimeWarning: invalid value encountered in less\n",
      "C:\\Users\\hepbu\\anaconda3\\lib\\site-packages\\numpy\\lib\\nanfunctions.py:1116: RuntimeWarning: All-NaN slice encountered\n",
      "  overwrite_input=overwrite_input)\n",
      "C:\\Users\\hepbu\\anaconda3\\lib\\site-packages\\ipykernel_launcher.py:49: RuntimeWarning: invalid value encountered in true_divide\n"
     ]
    }
   ],
   "source": [
    " for a in range (0,100):\n",
    "    os.chdir('C:\\\\Users\\\\hepbu\\\\Documents\\\\2021\\\\Honours Project\\\\SAMI DATA\\\\two_moments')\n",
    "    \n",
    "    data_folder = Path()\n",
    "    file_to_open = data_folder / SAMI_FITS[a]\n",
    "    hdul = fits.open(file_to_open)\n",
    "    VMAP = hdul[3].data\n",
    "    VEL_ERR = hdul[4].data\n",
    "    SIG = hdul[5].data\n",
    "    SIG_ERR = hdul[6].data\n",
    "\n",
    "    QC = hdul[8].data\n",
    "    SNR = QC[:,:,3]\n",
    "\n",
    "    SNR = np.where(SNR > 3, 1, np.NaN)\n",
    "    SIG_ERR = np.where(SIG_ERR < SIG*0.1 +25, 1, np.NaN)\n",
    "    VEL_ERR = np.where(VEL_ERR < 30, 1, np.NaN)\n",
    "\n",
    "    VMAP = VMAP[]\n",
    "    \n",
    "    SIG = np.multiply(SIG,SIG_ERR)\n",
    "    SIG = np.multiply(SIG,SNR)\n",
    "    SIG_BOTH = np.multiply(SIG, VEL_ERR)\n",
    "\n",
    "    VMAP = np.multiply(VMAP,VEL_ERR)\n",
    "    VMAP = np.multiply(VMAP,SNR)\n",
    "    # VMAP_BOTH = np.multiply(VMAP, SIG_ERR)\n",
    "\n",
    "    VMAP_CENTRE = VMAP[23:26,23:26]\n",
    "    MEDIAN = np.nanmedian(VMAP_CENTRE)\n",
    "    VMAP = VMAP - MEDIAN\n",
    "\n",
    "    CATID1 = int(hdul[0].header[14])\n",
    "    x = np.where(CATID == CATID1)\n",
    "    y = np.nanmax(x)\n",
    "    SIGMA_SCALE = SIGMA_RE[y]\n",
    "\n",
    "    if np.isnan(SIGMA_SCALE) == True:\n",
    "        SIGMA_SCALE = np.nanpercentile(VMAP,95)\n",
    "    else:\n",
    "        SIGMA_SCALE = SIGMA_SCALE\n",
    "    \n",
    "    VMAP = np.where(VMAP < SIGMA_SCALE, VMAP, SIGMA_SCALE)\n",
    "    VMAP = np.where(VMAP > -SIGMA_SCALE, VMAP, -SIGMA_SCALE)\n",
    "    \n",
    "    VMAP = (VMAP - np.nanmin(VMAP))/(np.nanmax(VMAP) - np.nanmin(VMAP))\n",
    "    where_are_nans = np.isnan(VMAP)\n",
    "    VMAP[where_are_nans] = 2\n",
    " \n",
    "#     VMAP = np.nan_to_num(VMAP)\n",
    "    \n",
    "    for i in range (0,np.size(x)):\n",
    "        \n",
    "        label = x[0]\n",
    "        label = float(KIN_MTYPE[label[i]])\n",
    "        if label == 6.0:\n",
    "            continue\n",
    "        else:\n",
    "            label = str(label)\n",
    "        \n",
    "        os.chdir('C:\\\\Users\\\\hepbu\\\\Documents\\\\2021\\\\Honours Project\\\\SAMI DATA\\\\TRAINING_DATA\\\\' + label)\n",
    "        \n",
    "        np.save(\"VMAP_\" + str(CATID1) + \"_\" + str(i+1) + \".npy\", VMAP)\n"
   ]
  },
  {
   "cell_type": "code",
   "execution_count": 56,
   "metadata": {},
   "outputs": [
    {
     "data": {
      "text/plain": [
       "array([6., 6., 6., 0., 6.], dtype=float32)"
      ]
     },
     "execution_count": 56,
     "metadata": {},
     "output_type": "execute_result"
    }
   ],
   "source": [
    "lab = KIN_MTYPE[x]\n",
    "lab = str(int(lab))\n",
    "KIN_MTYPE[1:6]\n",
    "\n"
   ]
  },
  {
   "cell_type": "code",
   "execution_count": 50,
   "metadata": {},
   "outputs": [
    {
     "data": {
      "text/plain": [
       "<function matplotlib.pyplot.show(*args, **kw)>"
      ]
     },
     "execution_count": 50,
     "metadata": {},
     "output_type": "execute_result"
    },
    {
     "data": {
      "image/png": "[encoded data removed]",
      "text/plain": [
       "<Figure size 432x288 with 3 Axes>"
      ]
     },
     "metadata": {
      "needs_background": "light"
     },
     "output_type": "display_data"
    }
   ],
   "source": [
    "fig, axs = plt.subplots(1,2)\n",
    "\n",
    "D = axs[0].pcolor(VMAP)\n",
    "fig.colorbar(D, ax = axs[0])\n",
    "plt.tight_layout()\n",
    "plt.show"
   ]
  },
  {
   "cell_type": "code",
   "execution_count": 30,
   "metadata": {},
   "outputs": [
    {
     "data": {
      "text/plain": [
       "array([0, 1, 2, 3, 4, 4], dtype=int64)"
      ]
     },
     "execution_count": 30,
     "metadata": {},
     "output_type": "execute_result"
    }
   ],
   "source": [
    "aaaa = [[6,6,6,6,5], [0,1,2,3,5]]\n",
    "aaaa = np.array(aaaa)\n",
    "ab = np.where(aaaa > 4)\n",
    "ab[1]"
   ]
  },
  {
   "cell_type": "code",
   "execution_count": 79,
   "metadata": {},
   "outputs": [
    {
     "data": {
      "text/plain": [
       "529"
      ]
     },
     "execution_count": 79,
     "metadata": {},
     "output_type": "execute_result"
    }
   ],
   "source": [
    "list_1 = x[0]\n",
    "list_1[0]"
   ]
  },
  {
   "cell_type": "code",
   "execution_count": 72,
   "metadata": {},
   "outputs": [
    {
     "data": {
      "text/plain": [
       "numpy.ndarray"
      ]
     },
     "execution_count": 72,
     "metadata": {},
     "output_type": "execute_result"
    }
   ],
   "source": [
    "type(index)"
   ]
  },
  {
   "cell_type": "code",
   "execution_count": 54,
   "metadata": {},
   "outputs": [],
   "source": [
    "aaa = str(lab)\n",
    "os.chdir('C:\\\\Users\\\\hepbu\\\\Documents\\\\2021\\\\Honours Project\\\\SAMI DATA\\\\TRAINING DATA\\\\' + lab)"
   ]
  },
  {
   "cell_type": "code",
   "execution_count": 84,
   "metadata": {},
   "outputs": [],
   "source": [
    "np.save(\"VMAP1.npy\", VMAP)"
   ]
  },
  {
   "cell_type": "code",
   "execution_count": 86,
   "metadata": {},
   "outputs": [
    {
     "data": {
      "text/plain": [
       "2.5"
      ]
     },
     "execution_count": 86,
     "metadata": {},
     "output_type": "execute_result"
    }
   ],
   "source": [
    "float(2.5)"
   ]
  },
  {
   "cell_type": "code",
   "execution_count": null,
   "metadata": {},
   "outputs": [],
   "source": []
  }
 ],
 "metadata": {
  "kernelspec": {
   "display_name": "Python 3",
   "language": "python",
   "name": "python3"
  },
  "language_info": {
   "codemirror_mode": {
    "name": "ipython",
    "version": 3
   },
   "file_extension": ".py",
   "mimetype": "text/x-python",
   "name": "python",
   "nbconvert_exporter": "python",
   "pygments_lexer": "ipython3",
   "version": "3.7.6"
  }
 },
 "nbformat": 4,
 "nbformat_minor": 4
}
