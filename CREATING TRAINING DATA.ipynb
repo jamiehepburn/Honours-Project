{
 "cells": [
  {
   "cell_type": "code",
   "execution_count": 1,
   "metadata": {},
   "outputs": [],
   "source": [
    "import numpy as np\n",
    "import matplotlib.pyplot as plt\n",
    "import matplotlib\n",
    "from astropy.io import fits\n",
    "from astropy.table import Table, vstack\n",
    "from pathlib import Path\n",
    "import os\n",
    "import math\n",
    "import glob\n",
    "import warnings\n",
    "warnings.filterwarnings('ignore')"
   ]
  },
  {
   "cell_type": "markdown",
   "metadata": {},
   "source": [
    "## RMS catalogue"
   ]
  },
  {
   "cell_type": "code",
   "execution_count": 2,
   "metadata": {},
   "outputs": [],
   "source": [
    "tablename1 = 'C:\\\\Users\\\\hepbu\\\\Documents\\\\2021\\\\Honours Project\\\\SAMI DATA\\\\jvds_kin_mtype_cat_v040421.fits'\n",
    "cat22 = Table.read(tablename1, hdu = 1)\n",
    "rms = cat22.field('RMS_VOTES')"
   ]
  },
  {
   "cell_type": "markdown",
   "metadata": {},
   "source": [
    "## Kinematics catalogue"
   ]
  },
  {
   "cell_type": "code",
   "execution_count": 3,
   "metadata": {},
   "outputs": [],
   "source": [
    "tablename = 'C:\\\\Users\\\\hepbu\\\\Documents\\\\2021\\\\Honours Project\\\\SAMI DATA\\\\jvds_stelkin_cat_v012_mge_seecorr_kh20_v150121_private-Copy1.fits'\n",
    "cat = Table.read(tablename, hdu=1)\n",
    "cat['RMS_VOTES'] = rms"
   ]
  },
  {
   "cell_type": "code",
   "execution_count": 37,
   "metadata": {},
   "outputs": [
    {
     "data": {
      "text/html": [
       "<i>Table length=5</i>\n",
       "<table id=\"table2425313264776\" class=\"table-striped table-bordered table-condensed\">\n",
       "<thead><tr><th>CATID</th><th>CATID_EXT</th><th>SAMI_FILENAME</th><th>OBS_DATE</th><th>RA</th><th>DEC</th><th>LMSTAR</th><th>Z_SPEC</th><th>Z_TONRY</th><th>GMINUSI</th><th>MU_AT_RE</th><th>GAL_FLAG</th><th>HWHM_PSF</th><th>RE</th><th>RE_CIRC_KPC</th><th>ELLIP</th><th>N_SERSIC</th><th>MTYPE</th><th>KIN_MTYPE</th><th>ENV_DIST_TO_5NN</th><th>ENV_SURFDENS</th><th>E_ENV_SURFDENS</th><th>SAMI_ISO</th><th>SAMI_CENTRAL</th><th>SAMI_SAT</th><th>HALOMASS</th><th>HALOMASS_UNIQUE</th><th>GROUP_ID</th><th>HALOMASS_WEIGHT</th><th>PA_PHOT</th><th>PA_STELKIN</th><th>E_PA_STELKIN</th><th>PA_GASKIN</th><th>E_PA_GASKIN</th><th>RMAX_VSIGMA</th><th>SIGMA_RE</th><th>E_SIGMA_RE</th><th>VRMS_RE</th><th>E_VRMS_RE</th><th>APER_CORR_FLAG</th><th>RMAX_APER_CORR</th><th>LAMBDAR_RE</th><th>E_LAMBDAR_RE</th><th>LAMBDAR_MAX</th><th>E_LAMBDAR_MAX</th><th>LAMBDAR_RE_EO</th><th>E_LAMBDAR_RE_EO</th><th>VSIGMA_RE</th><th>E_VSIGMA_RE</th><th>VSIGMA_MAX</th><th>EVSIGMA_MAX</th><th>VSIGMA_RE_EO</th><th>E_VSIGMA_RE_EO</th><th>MEAN_K51_RE</th><th>E_MEAN_K51_RE</th><th>FR_EE11</th><th>SR_EE11</th><th>FR_MC16</th><th>SR_MC16</th><th>FR_JVDS20</th><th>SR_JVDS20</th><th>PFR_JVDS20</th><th>PSR_JVDS20</th><th>INTRINSIC_ELLIP</th><th>INCLINATION</th><th>LR_SEEING_CORRECTION</th><th>VS_SEEING_CORRECTION</th><th>HIGH_ORDER_CLASS</th><th>RMS_VOTES</th></tr></thead>\n",
       "<thead><tr><th>int64</th><th>int64</th><th>bytes69</th><th>bytes21</th><th>float32</th><th>float32</th><th>float32</th><th>float32</th><th>float32</th><th>float32</th><th>float32</th><th>float32</th><th>float32</th><th>float32</th><th>float32</th><th>float32</th><th>float32</th><th>float32</th><th>float32</th><th>float32</th><th>float32</th><th>float32</th><th>float32</th><th>float32</th><th>float32</th><th>float64</th><th>float64</th><th>float32</th><th>float32</th><th>float32</th><th>float32</th><th>float32</th><th>float32</th><th>float32</th><th>float32</th><th>float32</th><th>float32</th><th>float32</th><th>float32</th><th>float32</th><th>float32</th><th>float32</th><th>float32</th><th>float32</th><th>float32</th><th>float32</th><th>float32</th><th>float32</th><th>float32</th><th>float32</th><th>float32</th><th>float32</th><th>float32</th><th>float32</th><th>float32</th><th>float32</th><th>float32</th><th>float32</th><th>float32</th><th>float32</th><th>float32</th><th>float32</th><th>float32</th><th>float32</th><th>float32</th><th>float32</th><th>float32</th><th>float32</th><th>float32</th></tr></thead>\n",
       "<tr><td>6821</td><td>6821</td><td>6821_7_Y18SAR4_P001_12T126_2018_05_07-2018_05_16.fits.gz</td><td>2018_05_07-2018_05_16</td><td>174.15315</td><td>0.815855</td><td>7.42</td><td>0.00375</td><td>0.00443</td><td>-0.01</td><td>23.51</td><td>3.0</td><td>1.4091473</td><td>6.849334</td><td>0.41975373</td><td>0.37479904</td><td>7.2232</td><td>3.0</td><td>6.0</td><td>nan</td><td>nan</td><td>nan</td><td>1.0</td><td>nan</td><td>nan</td><td>nan</td><td>nan</td><td>nan</td><td>1.0</td><td>134.77594</td><td>nan</td><td>nan</td><td>344.0</td><td>0.16666667</td><td>1.6666667</td><td>nan</td><td>nan</td><td>nan</td><td>nan</td><td>nan</td><td>nan</td><td>nan</td><td>nan</td><td>nan</td><td>nan</td><td>nan</td><td>nan</td><td>nan</td><td>nan</td><td>nan</td><td>nan</td><td>nan</td><td>nan</td><td>nan</td><td>nan</td><td>nan</td><td>nan</td><td>nan</td><td>nan</td><td>nan</td><td>nan</td><td>nan</td><td>nan</td><td>nan</td><td>nan</td><td>nan</td><td>nan</td><td>nan</td><td>nan</td></tr>\n",
       "<tr><td>6837</td><td>6837</td><td>6837_7_Y18SAR4_P001_12T126_2018_05_07-2018_05_16.fits.gz</td><td>2018_05_07-2018_05_16</td><td>174.30278</td><td>0.7899846</td><td>9.0</td><td>0.0742</td><td>0.0742</td><td>9.999</td><td>9.999</td><td>8.0</td><td>1.4091473</td><td>nan</td><td>nan</td><td>nan</td><td>nan</td><td>3.0</td><td>6.0</td><td>1.384</td><td>nan</td><td>nan</td><td>nan</td><td>1.0</td><td>nan</td><td>257753714284.17548</td><td>257753714284.17548</td><td>203007.0</td><td>1.0</td><td>nan</td><td>nan</td><td>nan</td><td>289.5</td><td>0.16666667</td><td>7.5</td><td>nan</td><td>nan</td><td>nan</td><td>nan</td><td>nan</td><td>nan</td><td>nan</td><td>nan</td><td>nan</td><td>nan</td><td>nan</td><td>nan</td><td>nan</td><td>nan</td><td>nan</td><td>nan</td><td>nan</td><td>nan</td><td>nan</td><td>nan</td><td>nan</td><td>nan</td><td>nan</td><td>nan</td><td>nan</td><td>nan</td><td>nan</td><td>nan</td><td>nan</td><td>nan</td><td>nan</td><td>nan</td><td>nan</td><td>nan</td></tr>\n",
       "<tr><td>7139</td><td>7139</td><td>7139_7_Y18SAR3_P002_12T122_2018_05_07-2018_05_16.fits.gz</td><td>2018_05_07-2018_05_16</td><td>175.82831</td><td>0.747881</td><td>10.63</td><td>0.07567</td><td>0.07697</td><td>1.36</td><td>20.03</td><td>0.0</td><td>0.7494104</td><td>1.0257354</td><td>1.3232017</td><td>0.1923237</td><td>3.337</td><td>1.0</td><td>6.0</td><td>1.0</td><td>0.27</td><td>0.0289</td><td>nan</td><td>1.0</td><td>nan</td><td>55228194660.07442</td><td>55228194660.07442</td><td>203032.0</td><td>1.0</td><td>-90.39273</td><td>267.5</td><td>1.5</td><td>181.0</td><td>0.16666667</td><td>3.6000001</td><td>235.61281</td><td>3.229881</td><td>nan</td><td>nan</td><td>nan</td><td>nan</td><td>nan</td><td>nan</td><td>nan</td><td>nan</td><td>nan</td><td>nan</td><td>nan</td><td>nan</td><td>nan</td><td>nan</td><td>nan</td><td>nan</td><td>nan</td><td>nan</td><td>nan</td><td>nan</td><td>nan</td><td>nan</td><td>nan</td><td>nan</td><td>nan</td><td>nan</td><td>nan</td><td>nan</td><td>nan</td><td>nan</td><td>nan</td><td>nan</td></tr>\n",
       "<tr><td>7206</td><td>7206</td><td>7206_7_Y18SAR3_P002_12T122_2018_05_07-2018_05_16.fits.gz</td><td>2018_05_07-2018_05_16</td><td>176.1641</td><td>0.749569</td><td>10.48</td><td>0.09339</td><td>0.09471</td><td>0.91</td><td>21.78</td><td>0.0</td><td>0.7494104</td><td>3.1248665</td><td>4.540183</td><td>0.29915828</td><td>1.4784</td><td>2.0</td><td>6.0</td><td>1.0</td><td>1.138</td><td>0.4627</td><td>nan</td><td>1.0</td><td>nan</td><td>3300007829417.872</td><td>3300007829417.872</td><td>203039.0</td><td>1.0</td><td>106.22249</td><td>277.0</td><td>1.4166666</td><td>279.5</td><td>0.25</td><td>5.2</td><td>104.364845</td><td>1.8333597</td><td>103.75486</td><td>30.076302</td><td>0.0</td><td>1.0</td><td>0.65009856</td><td>0.014969519</td><td>nan</td><td>nan</td><td>0.7064621</td><td>0.016267376</td><td>0.86284924</td><td>0.023065692</td><td>nan</td><td>nan</td><td>1.0090297</td><td>0.026973391</td><td>0.034964137</td><td>0.008393184</td><td>1.0</td><td>nan</td><td>1.0</td><td>nan</td><td>1.0</td><td>nan</td><td>1.0</td><td>nan</td><td>0.8531062</td><td>46.107323</td><td>1.2044398</td><td>1.2768883</td><td>nan</td><td>nan</td></tr>\n",
       "<tr><td>7289</td><td>7289</td><td>7289_7_Y18SAR3_P002_12T122_2018_05_07-2018_05_16.fits.gz</td><td>2018_05_07-2018_05_16</td><td>176.77502</td><td>0.635689</td><td>11.12</td><td>0.08682</td><td>0.08813</td><td>1.32</td><td>22.17</td><td>0.0</td><td>0.7494104</td><td>3.3211834</td><td>4.7925606</td><td>0.21212418</td><td>4.4338</td><td>0.5</td><td>0.0</td><td>1.0</td><td>0.376</td><td>0.0336</td><td>nan</td><td>1.0</td><td>nan</td><td>2315613883694.7866</td><td>2315613883694.7866</td><td>203048.0</td><td>1.0</td><td>102.06984</td><td>84.5</td><td>12.75</td><td>100.0</td><td>0.33333334</td><td>6.2666664</td><td>212.49521</td><td>1.5672057</td><td>211.05315</td><td>60.873405</td><td>0.0</td><td>1.0</td><td>0.070310414</td><td>0.0069313175</td><td>nan</td><td>nan</td><td>0.070310414</td><td>0.0069313175</td><td>0.075100034</td><td>0.006164173</td><td>nan</td><td>nan</td><td>0.075100034</td><td>0.006164173</td><td>0.23975329</td><td>0.072991356</td><td>nan</td><td>1.0</td><td>nan</td><td>1.0</td><td>nan</td><td>1.0</td><td>nan</td><td>1.0</td><td>nan</td><td>nan</td><td>1.2563438</td><td>1.2205775</td><td>1.0</td><td>0.5345225</td></tr>\n",
       "</table>"
      ],
      "text/plain": [
       "<Table length=5>\n",
       "CATID CATID_EXT ... HIGH_ORDER_CLASS RMS_VOTES\n",
       "int64   int64   ...     float32       float32 \n",
       "----- --------- ... ---------------- ---------\n",
       " 6821      6821 ...              nan       nan\n",
       " 6837      6837 ...              nan       nan\n",
       " 7139      7139 ...              nan       nan\n",
       " 7206      7206 ...              nan       nan\n",
       " 7289      7289 ...              1.0 0.5345225"
      ]
     },
     "execution_count": 37,
     "metadata": {},
     "output_type": "execute_result"
    }
   ],
   "source": [
    "cat[0:5]"
   ]
  },
  {
   "cell_type": "code",
   "execution_count": 4,
   "metadata": {},
   "outputs": [],
   "source": [
    "# make an array for each important dataset\n",
    "CATID = cat.field('CATID')\n",
    "KIN_MTYPE = cat.field('KIN_MTYPE')\n",
    "FILENAME = cat.field('SAMI_FILENAME')\n",
    "CATID_EXT = cat.field('CATID_EXT')\n",
    "LMSTAR = cat.field('LMSTAR')\n",
    "RE_CIRC_KPC = cat.field('RE_CIRC_KPC')\n",
    "SIGMA_RE = cat.field('SIGMA_RE')\n",
    "GAL_FLAG = cat.field('GAL_FLAG')\n",
    "# RMS = cat.field('RMS_VOTES')"
   ]
  },
  {
   "cell_type": "code",
   "execution_count": 5,
   "metadata": {},
   "outputs": [],
   "source": [
    "#TESTING SAMPLE\n",
    "\n",
    "cat['RMS_VOTES'] = rms\n",
    "RMS = cat.field('RMS_VOTES')\n",
    "cat = cat[np.where(RMS < 1.5)]\n",
    "KIN_MTYPE = cat.field('KIN_MTYPE')\n",
    "cat = cat[np.where(KIN_MTYPE < 4)]\n",
    "\n",
    "# LMSTAR = cat.field('LMSTAR')\n",
    "# cat = cat[np.where(LMSTAR > 10)]"
   ]
  },
  {
   "cell_type": "code",
   "execution_count": 6,
   "metadata": {},
   "outputs": [
    {
     "data": {
      "text/plain": [
       "(490,)"
      ]
     },
     "execution_count": 6,
     "metadata": {},
     "output_type": "execute_result"
    }
   ],
   "source": [
    "np.shape(cat)"
   ]
  },
  {
   "cell_type": "code",
   "execution_count": 6,
   "metadata": {},
   "outputs": [],
   "source": [
    "#FACE ON SPIRAL\n",
    "\n",
    "cat['RMS_VOTES'] = rms\n",
    "RMS = cat.field('RMS_VOTES')\n",
    "# cat = cat[np.where(RMS > 1.5)]\n",
    "KIN_MTYPE = cat.field('KIN_MTYPE')\n",
    "# cat = cat[np.where(KIN_MTYPE < 6)]\n",
    "cat = cat[np.where(KIN_MTYPE > 3.5)]\n",
    "KIN_MTYPE = cat.field('KIN_MTYPE')\n",
    "cat = cat[np.where(KIN_MTYPE < 6)]\n"
   ]
  },
  {
   "cell_type": "code",
   "execution_count": 39,
   "metadata": {},
   "outputs": [],
   "source": [
    "#RMS > 1.5\n",
    "\n",
    "cat['RMS_VOTES'] = rms\n",
    "RMS = cat.field('RMS_VOTES')\n",
    "cat = cat[np.where(RMS > 1.49)]\n",
    "KIN_MTYPE = cat.field('KIN_MTYPE')\n",
    "cat = cat[np.where(KIN_MTYPE < 4)]"
   ]
  },
  {
   "cell_type": "code",
   "execution_count": 25,
   "metadata": {},
   "outputs": [],
   "source": [
    "#UNCLASSIFIED\n",
    "\n",
    "KIN_MTYPE = cat.field('KIN_MTYPE')\n",
    "cat = cat[np.where(KIN_MTYPE == 6)]"
   ]
  },
  {
   "cell_type": "code",
   "execution_count": 41,
   "metadata": {},
   "outputs": [
    {
     "data": {
      "text/plain": [
       "48"
      ]
     },
     "execution_count": 41,
     "metadata": {},
     "output_type": "execute_result"
    }
   ],
   "source": [
    "np.size(cat2)"
   ]
  },
  {
   "cell_type": "code",
   "execution_count": 21,
   "metadata": {},
   "outputs": [
    {
     "data": {
      "text/plain": [
       "60"
      ]
     },
     "execution_count": 21,
     "metadata": {},
     "output_type": "execute_result"
    }
   ],
   "source": [
    "np.size(cat1)"
   ]
  },
  {
   "cell_type": "code",
   "execution_count": 27,
   "metadata": {},
   "outputs": [
    {
     "data": {
      "text/plain": [
       "2832"
      ]
     },
     "execution_count": 27,
     "metadata": {},
     "output_type": "execute_result"
    }
   ],
   "source": [
    "np.size(cat3)"
   ]
  },
  {
   "cell_type": "code",
   "execution_count": 7,
   "metadata": {},
   "outputs": [],
   "source": [
    "cat1 = cat"
   ]
  },
  {
   "cell_type": "code",
   "execution_count": 40,
   "metadata": {},
   "outputs": [],
   "source": [
    "cat2 = cat"
   ]
  },
  {
   "cell_type": "code",
   "execution_count": 26,
   "metadata": {},
   "outputs": [],
   "source": [
    "cat3 = cat"
   ]
  },
  {
   "cell_type": "code",
   "execution_count": 55,
   "metadata": {},
   "outputs": [],
   "source": [
    "new = vstack([cat1, cat2, cat3])"
   ]
  },
  {
   "cell_type": "code",
   "execution_count": 57,
   "metadata": {},
   "outputs": [],
   "source": [
    "cat6 = new"
   ]
  },
  {
   "cell_type": "code",
   "execution_count": 58,
   "metadata": {},
   "outputs": [],
   "source": [
    "CATID = cat6.field('CATID')\n",
    "KIN_MTYPE = cat6.field('KIN_MTYPE')\n",
    "FILENAME = cat6.field('SAMI_FILENAME')\n",
    "CATID_EXT = cat6.field('CATID_EXT')\n",
    "LMSTAR = cat6.field('LMSTAR')\n",
    "RE_CIRC_KPC = cat6.field('RE_CIRC_KPC')\n",
    "SIGMA_RE = cat6.field('SIGMA_RE')"
   ]
  },
  {
   "cell_type": "code",
   "execution_count": 56,
   "metadata": {},
   "outputs": [
    {
     "data": {
      "text/plain": [
       "2940"
      ]
     },
     "execution_count": 56,
     "metadata": {},
     "output_type": "execute_result"
    }
   ],
   "source": [
    "np.size(new)"
   ]
  },
  {
   "cell_type": "code",
   "execution_count": 59,
   "metadata": {},
   "outputs": [
    {
     "data": {
      "text/plain": [
       "2940"
      ]
     },
     "execution_count": 59,
     "metadata": {},
     "output_type": "execute_result"
    }
   ],
   "source": [
    "np.size(FILENAME)"
   ]
  },
  {
   "cell_type": "code",
   "execution_count": 60,
   "metadata": {},
   "outputs": [],
   "source": [
    "MSOLAR = 1.98892e30\n",
    "G = 6.67300e-11\n",
    "kpctom = 3.08568025e19\n",
    "\n",
    "def SIGMA_STAR_CALC(LMSTAR_VAL, RE_CIRC_VAL):\n",
    "    return math.sqrt(((10**LMSTAR_VAL)*MSOLAR*G)/(RE_CIRC_VAL*kpctom*5))/(1e3)\n",
    "\n",
    "SIGMA_STAR = []\n",
    "for i in range(LMSTAR.size):\n",
    "    SIGMA_STAR += [SIGMA_STAR_CALC(LMSTAR[i],RE_CIRC_KPC[i])]\n",
    "    \n",
    "SIGMA_STAR = np.array(SIGMA_STAR)\n",
    "\n",
    "NANS_SIGMA_RE = np.argwhere(np.isnan(SIGMA_RE))\n",
    "SIGMA_STAR_1 = SIGMA_STAR[NANS_SIGMA_RE]\n",
    "SIGMA_RE[NANS_SIGMA_RE] = SIGMA_STAR_1"
   ]
  },
  {
   "cell_type": "code",
   "execution_count": 61,
   "metadata": {},
   "outputs": [
    {
     "data": {
      "text/plain": [
       "2940"
      ]
     },
     "execution_count": 61,
     "metadata": {},
     "output_type": "execute_result"
    }
   ],
   "source": [
    "np.size(SIGMA_RE)"
   ]
  },
  {
   "cell_type": "code",
   "execution_count": 62,
   "metadata": {},
   "outputs": [],
   "source": [
    "CATID_TO_RUN = CATID_EXT"
   ]
  },
  {
   "cell_type": "code",
   "execution_count": null,
   "metadata": {},
   "outputs": [],
   "source": [
    "sig_max = np.nanmax(SIGMA_RE)\n",
    "training_data_1 = []\n",
    "ratios = []\n",
    "minmax = np.zeros((4, np.size(CATID_TO_RUN)))\n",
    "for i in range(0,np.size(CATID_TO_RUN)):\n",
    "    a  = np.where(CATID_TO_RUN[i] == CATID_EXT)\n",
    "    idx = a[0][0]   \n",
    "#     print('Galaxy', i)\n",
    "    catid_use = str(CATID_TO_RUN[i])\n",
    "    if catid_use == '209613':\n",
    "        minmax[0,i] = np.NaN\n",
    "        minmax[1,i] = np.NaN\n",
    "        minmax[2,i] = np.NaN\n",
    "        minmax[3,i] = np.NaN\n",
    "        continue\n",
    "        \n",
    "    sami_file_name = FILENAME[idx]  \n",
    "    s = str(sami_file_name)\n",
    "    s = s.strip()\n",
    "    num = s.find('_')\n",
    "    l = len(s)\n",
    "    s = 'C:\\\\Users\\\\hepbu\\\\Documents\\\\2021\\\\Honours Project\\\\SAMI DATA\\\\two_moments\\\\' + \\\n",
    "    s[:num] + '_blue_red' + s[num:l-8] + '_kinematicsM2'+ s[l-8:-3]\n",
    "    filename = s\n",
    "    \n",
    "    data = fits.open(filename)\n",
    "    # open the velocity & error & snr\n",
    "    \n",
    "    vel = data['VEL'].data\n",
    "    vel_err = data['VEL_ERR'].data\n",
    "    sig = data['SIG'].data\n",
    "    sig_err = data['SIG_ERR'].data\n",
    "    qc = data['QC'].data\n",
    "    snr = qc[:,:,3]\n",
    "    \n",
    "# find where the conditions are met and filter out error values\n",
    "\n",
    "    centre = vel[22:28,22:28]\n",
    "#     centre2 = np.ones((np.shape(centre)))\n",
    "    median = np.nanmedian(centre)\n",
    "    vel = vel - median\n",
    "    \n",
    "#     vel_97 = np.nanpercentile(vel, 97)\n",
    "#     vel_3 = np.nanpercentile(vel, 3)\n",
    "#     sig_97 = np.nanpercentile(sig, 97)\n",
    "    \n",
    "    vel_3sigmax = np.nanmean(vel) + 3*np.nanstd(vel)\n",
    "    vel_3sigmin = np.nanmean(vel) - 3*np.nanstd(vel)\n",
    "    sig_3sigmax = np.nanmean(sig) + 3*np.nanstd(sig)\n",
    "    \n",
    "    vel = np.where((vel_err <= 30) & (snr >= 3) & (sig_err < sig*0.1 +25) & \\\n",
    "                 (vel < vel_3sigmax) & (vel > vel_3sigmin) & (sig < sig_3sigmax), vel, np.NaN)  \n",
    "    \n",
    "\n",
    "    sig = np.where((vel_err <= 30) & (snr >= 3) & (sig_err < sig*0.1 +25) & \\\n",
    "                 (vel < vel_3sigmax) & (vel > vel_3sigmin) & (sig < sig_3sigmax), sig, np.NaN) \n",
    "    \n",
    "#     vmin = np.nanmin(vel)\n",
    "#     vmax = np.nanmax(vel)\n",
    "#     smin = np.nanmin(sig)\n",
    "#     smax = np.nanmax(sig)\n",
    "    \n",
    "    \n",
    "#     minmax[0,i] = vmin\n",
    "#     minmax[1,i] = vmax\n",
    "#     minmax[2,i] = smin\n",
    "#     minmax[3,i] = smax\n",
    "\n",
    "\n",
    "# Normalize values between 0 and 1 \n",
    "\n",
    "    sig95 = np.nanpercentile(sig, 95)\n",
    "    sig90 = np.nanpercentile(sig, 90)\n",
    "    sig_re  = SIGMA_RE[i]\n",
    "    \n",
    "    if math.isnan(sig_re):\n",
    "        sig_use = sig90\n",
    "        \n",
    "    else:\n",
    "        sig_use = sig_re\n",
    "    \n",
    "    sig_use = abs(sig_use)\n",
    "    \n",
    "#     vel = np.where(vel > sig_use, sig_use, vel)\n",
    "#     print('GALAXY: ', catid_use)\n",
    "#     print('SIGMA_RE: ',sig_re)\n",
    "#     print('95th percentile: ', sig95)\n",
    "#     print('90th percentile: ', sig90)\n",
    "    \n",
    "    sig = (sig - np.nanmin(sig))/(np.nanmax(sig) - np.nanmin(sig))\n",
    "    sig = np.nan_to_num(sig, 0)    \n",
    "#     sig = sig*sig_ratio\n",
    "\n",
    "    vel99 = abs(np.nanmax(vel))\n",
    "    ratio = vel99/sig_use\n",
    "  \n",
    "    if ratio > 1:\n",
    "        ratio = 1\n",
    "        \n",
    "#     print('ratio: ', ratio)\n",
    "#     print('ratio2: ',ratio2)\n",
    "        \n",
    "    vel = (vel - np.nanmin(vel))/(np.nanmax(vel) - np.nanmin(vel))\n",
    "    vel = np.nan_to_num(vel, nan = 0.5) \n",
    "    \n",
    "    vel = (2*vel)-1 \n",
    "    \n",
    "    vel = vel*ratio\n",
    "    \n",
    "    vel = (vel+1)/2\n",
    "    \n",
    "    class_num = KIN_MTYPE[idx]\n",
    "    catid_ext = CATID_EXT[idx]\n",
    "#     ratios.append(ratio)\n",
    "#     training_data_1.append([vel])\n",
    "    training_data_1.append([vel, sig, class_num, catid_ext])\n",
    "\n"
   ]
  },
  {
   "cell_type": "code",
   "execution_count": 59,
   "metadata": {},
   "outputs": [
    {
     "data": {
      "text/plain": [
       "(2940,)"
      ]
     },
     "execution_count": 59,
     "metadata": {},
     "output_type": "execute_result"
    }
   ],
   "source": [
    "np.shape(vmin)"
   ]
  },
  {
   "cell_type": "code",
   "execution_count": null,
   "metadata": {},
   "outputs": [],
   "source": [
    "np.shape(training_data_1)"
   ]
  },
  {
   "cell_type": "code",
   "execution_count": 216,
   "metadata": {},
   "outputs": [],
   "source": [
    "X = []\n",
    "X1 = []\n",
    "Y = []\n",
    "Z = []\n",
    "\n",
    "\n",
    "for maps, sigmaps, labels, catids, in training_data_1:\n",
    "    X.append(maps)\n",
    "    X1.append(sigmaps)\n",
    "    Y.append(labels)\n",
    "    Z.append(catids)\n",
    "\n",
    "X = np.array(X).reshape(-1, 50,50, 1)\n",
    "X1 = np.array(X1).reshape(-1, 50,50, 1)\n",
    "Y = np.array(Y)\n",
    "Z = np.array(Z)"
   ]
  },
  {
   "cell_type": "code",
   "execution_count": 218,
   "metadata": {},
   "outputs": [
    {
     "data": {
      "text/plain": [
       "(2939,)"
      ]
     },
     "execution_count": 218,
     "metadata": {},
     "output_type": "execute_result"
    }
   ],
   "source": [
    "np.shape(Z)"
   ]
  },
  {
   "cell_type": "code",
   "execution_count": null,
   "metadata": {},
   "outputs": [],
   "source": [
    "catids = "
   ]
  },
  {
   "cell_type": "code",
   "execution_count": 53,
   "metadata": {},
   "outputs": [],
   "source": [
    "# vmin = minmax[0, :]\n",
    "# vmax = minmax[1, :]\n",
    "# smin = minmax[2, :]\n",
    "# smax = minmax[3, :]"
   ]
  },
  {
   "cell_type": "code",
   "execution_count": 219,
   "metadata": {},
   "outputs": [],
   "source": [
    "# X_vals_classified = np.save('C:\\\\Users\\\\hepbu\\\\Documents\\\\2021\\\\Honours Project\\\\SAMI DATA\\\\TRAINING_DATA\\\\vel_notrain_280921', X)\n",
    "# X1_vals_classified = np.save('C:\\\\Users\\\\hepbu\\\\Documents\\\\2021\\\\Honours Project\\\\SAMI DATA\\\\TRAINING_DATA\\\\sig_notrain_280921', X1)\n",
    "# Y_vals_classified = np.save('C:\\\\Users\\\\hepbu\\\\Documents\\\\2021\\\\Honours Project\\\\SAMI DATA\\\\TRAINING_DATA\\\\sig_min_notrain_210921', smin)\n",
    "Z_vals_classified = np.save('C:\\\\Users\\\\hepbu\\\\Documents\\\\2021\\\\Honours Project\\\\SAMI DATA\\\\TRAINING_DATA\\\\catid_ext_notrain_280921', Z)\n"
   ]
  },
  {
   "cell_type": "code",
   "execution_count": 128,
   "metadata": {},
   "outputs": [
    {
     "data": {
      "text/plain": [
       "(array([37], dtype=int64),)"
      ]
     },
     "execution_count": 128,
     "metadata": {},
     "output_type": "execute_result"
    }
   ],
   "source": [
    "np.where(Z == 70022)"
   ]
  },
  {
   "cell_type": "code",
   "execution_count": 129,
   "metadata": {},
   "outputs": [
    {
     "data": {
      "image/png": "[encoded data removed]",
      "text/plain": [
       "<Figure size 720x576 with 2 Axes>"
      ]
     },
     "metadata": {
      "needs_background": "light"
     },
     "output_type": "display_data"
    },
    {
     "data": {
      "image/png": "[encoded data removed]",
      "text/plain": [
       "<Figure size 720x576 with 2 Axes>"
      ]
     },
     "metadata": {
      "needs_background": "light"
     },
     "output_type": "display_data"
    }
   ],
   "source": [
    "n = 37\n",
    "a = training_data_1[n][0]\n",
    "b = training_data_1[n][1]\n",
    "c = training_data_1[n][2]\n",
    "d = training_data_1[n][3]\n",
    "\n",
    "plt.figure(figsize=(10, 8))\n",
    "plt.pcolor(a, cmap = 'RdYlBu_r', vmin = 0, vmax = 1)\n",
    "# plt.imshow(centre2)\n",
    "plt.colorbar()\n",
    "plt.title(str(d) + '  '  + str(c))\n",
    "plt.show()\n",
    "\n",
    "plt.figure(figsize=(10, 8))\n",
    "# plt.pcolor(a, cmap = 'RdYlBu_r', vmin = 0, vmax = 1)\n",
    "plt.pcolor(b, cmap = 'YlOrRd', vmin = 0, vmax = 1)\n",
    "# plt.imshow(centre2)\n",
    "plt.colorbar()\n",
    "plt.title(str(d) + '  '  + str(c))\n",
    "plt.show()"
   ]
  },
  {
   "cell_type": "code",
   "execution_count": 111,
   "metadata": {},
   "outputs": [
    {
     "data": {
      "text/plain": [
       "Text(0.5, 1.0, '272190')"
      ]
     },
     "execution_count": 111,
     "metadata": {},
     "output_type": "execute_result"
    },
    {
     "data": {
      "image/png": "[encoded data removed]",
      "text/plain": [
       "<Figure size 720x576 with 2 Axes>"
      ]
     },
     "metadata": {
      "needs_background": "light"
     },
     "output_type": "display_data"
    }
   ],
   "source": []
  },
  {
   "cell_type": "code",
   "execution_count": 102,
   "metadata": {},
   "outputs": [
    {
     "data": {
      "text/plain": [
       "(490, 4)"
      ]
     },
     "execution_count": 102,
     "metadata": {},
     "output_type": "execute_result"
    }
   ],
   "source": [
    "np.shape(training_data_1)"
   ]
  },
  {
   "cell_type": "markdown",
   "metadata": {},
   "source": [
    "## Voranoid Maps"
   ]
  },
  {
   "cell_type": "code",
   "execution_count": 41,
   "metadata": {},
   "outputs": [],
   "source": [
    "# CATID_TO_RUN = CATID_EXT\n",
    "\n",
    "# sig_max = np.nanmax(SIGMA_RE)\n",
    "# training_data_1 = []\n",
    "\n",
    "# for i in range(0,np.size(CATID_TO_RUN)):\n",
    "\n",
    "#     catid_use = str(CATID_TO_RUN[i])\n",
    "#     if catid_use == '209613':\n",
    "#         continue\n",
    "#     sami_file_name = FILENAME[i]  \n",
    "#     s = str(sami_file_name)\n",
    "#     s = s.strip()\n",
    "#     num = s.find('_')\n",
    "#     l = len(s)\n",
    "#     s = 'C:\\\\Users\\\\hepbu\\\\Documents\\\\2021\\\\Honours Project\\\\SAMI DATA\\\\two_moments\\\\' + s[:num] + \\\n",
    "#     '_blue_red' + s[num:l-8] + '_kinematicsM2'+ s[l-8:-3]\n",
    "#     filename = s\n",
    "    \n",
    "#     data = fits.open(filename)\n",
    "#     # open the velocity & error & snr\n",
    "    \n",
    "#     vel = data['VEL'].data\n",
    "    \n",
    "#     vel_binned = data['VEL_BINNED_ADAPTIVE'].data\n",
    "#     snr_binned = data['FORMAL_SNR_BINNED_ADAPTIVE'].data\n",
    "#     vel_err_binned = data['VEL_ERR_BINNED_ADAPTIVE'].data\n",
    "#     sig_binned = data['SIG_BINNED_ADAPTIVE'].data\n",
    "#     sig_err_binned = data['SIG_ERR_BINNED_ADAPTIVE'].data\n",
    "    \n",
    "#     # find where the conditions are met and filter out bad values\n",
    "\n",
    "#     centre = vel[23:30,23:30]\n",
    "#     median = np.nanmedian(centre)\n",
    "#     vel_binned = vel_binned - median\n",
    "    \n",
    "#     vel_3sigmax = np.nanmean(vel_binned) + 3*np.nanstd(vel_binned)\n",
    "#     vel_3sigmin = np.nanmean(vel_binned) - 3*np.nanstd(vel_binned)\n",
    "#     sig_3sigmax = np.nanmean(sig_binned) + 3*np.nanstd(sig_binned)\n",
    "    \n",
    "#     vel_binned = np.where((vel_err_binned <= 30) & (snr_binned >= 3) & (sig_binned > 35) & \\\n",
    "#                  (sig_err_binned < sig_binned*0.1 +25) & (vel_binned < vel_3sigmax) & (vel_binned > vel_3sigmin) \\\n",
    "#                  & (sig_binned < sig_3sigmax), vel_binned, np.NaN)\n",
    "    \n",
    "#     sig_binned = np.where((vel_err_binned <= 30) & (snr_binned >= 3) & (sig_binned > 35) & \\\n",
    "#                     (sig_err_binned < sig_binned*0.1 +25) & (vel_binned < vel_3sigmax) & (vel_binned > vel_3sigmin) \\\n",
    "#                      & (sig_binned < sig_3sigmax), sig_binned, np.NaN)\n",
    "    \n",
    "# #     vel_binned = np.multiply(vel_binned, a)\n",
    "# #     sig_binned = np.multiply(sig_binned, a)\n",
    "\n",
    "#     sig = sig_binned\n",
    "#     vel = vel_binned\n",
    "    \n",
    "#     # Normalize values between 0 and 1\n",
    "\n",
    "# #     sig_max_1 = np.nanmax(sig)\n",
    "# #     sig_ratio = sig_max_1/sig_max\n",
    "# #     if sig_ratio > 1:\n",
    "# #         sig_ratio = 1    \n",
    "\n",
    "#     sig = (sig - np.nanmin(sig))/(np.nanmax(sig) - np.nanmin(sig))\n",
    "#     sig = np.nan_to_num(sig, 0)    \n",
    "# #     sig = sig*sig_ratio\n",
    "\n",
    "#     vel = (vel - np.nanmin(vel))/(np.nanmax(vel) - np.nanmin(vel))\n",
    "#     vel = np.nan_to_num(vel, nan = 0.5) \n",
    "    \n",
    "#     class_num = KIN_MTYPE[i]\n",
    "#     galaxy_ID = catid_use\n",
    "    \n",
    "#     training_data_1.append([vel, sig, class_num, galaxy_ID])\n"
   ]
  },
  {
   "cell_type": "code",
   "execution_count": null,
   "metadata": {},
   "outputs": [],
   "source": []
  },
  {
   "cell_type": "code",
   "execution_count": 42,
   "metadata": {},
   "outputs": [
    {
     "data": {
      "text/plain": [
       "(428, 4)"
      ]
     },
     "execution_count": 42,
     "metadata": {},
     "output_type": "execute_result"
    }
   ],
   "source": [
    "np.shape(training_data_1)"
   ]
  },
  {
   "cell_type": "code",
   "execution_count": 47,
   "metadata": {},
   "outputs": [],
   "source": [
    "n = 10\n",
    "a = training_data_1[n][0]\n",
    "b = training_data_1[n][1]\n",
    "c = training_data_1[n][2]\n",
    "d = training_data_1[n][3]"
   ]
  },
  {
   "cell_type": "code",
   "execution_count": 125,
   "metadata": {},
   "outputs": [],
   "source": [
    "# fig, axs = plt.subplots(1,2, figsize = (14, 6))\n",
    "# fig.suptitle('Label: '+ str(c) + ' ---- ' + \"CATID: \" + str(d))\n",
    "# a1 = axs[0].pcolor(a, cmap = 'RdYlBu_r', vmin = 0, vmax = 1)\n",
    "# fig.colorbar(a1, ax = axs[0],  fraction=0.046, pad=0.04)\n",
    "\n",
    "# a2 = axs[1].pcolor(b, cmap = 'YlOrRd')\n",
    "# fig.colorbar(a2, ax = axs[1],  fraction=0.046, pad=0.04)"
   ]
  },
  {
   "cell_type": "code",
   "execution_count": 131,
   "metadata": {},
   "outputs": [],
   "source": [
    "training_data_3 = training_data_1"
   ]
  },
  {
   "cell_type": "code",
   "execution_count": 132,
   "metadata": {},
   "outputs": [],
   "source": [
    "#AUGMENTATION FOR NORS\n",
    "import random\n",
    "size = np.shape(training_data_3)[0]\n",
    "\n",
    "for i in range(0, size):\n",
    "    vmap = training_data_3[i][0]\n",
    "    sigmap = training_data_3[i][1]\n",
    "    label = training_data_3[i][2]\n",
    "    catid = training_data_3[i][3]\n",
    "    \n",
    "    if label < 1.5:\n",
    "        for a in range(1,4):\n",
    "            vmap_new = np.rot90(vmap, k = a, axes = (0,1))\n",
    "            sigmap_new = np.rot90(sigmap, k = a, axes = (0,1))\n",
    "            training_data_3.append([vmap_new,sigmap_new, label, catid])\n",
    "    else:\n",
    "        r = random.randint(1,3)\n",
    "        vmap_new = np.rot90(vmap, k = r, axes = (0,1))\n",
    "        sigmap_new = np.rot90(sigmap, k = r, axes = (0,1))\n",
    "        training_data_3.append([vmap_new, sigmap_new, label, catid])"
   ]
  },
  {
   "cell_type": "code",
   "execution_count": 133,
   "metadata": {},
   "outputs": [
    {
     "name": "stdout",
     "output_type": "stream",
     "text": [
      "(1242, 4)\n"
     ]
    }
   ],
   "source": [
    "print(np.shape(training_data_3))"
   ]
  },
  {
   "cell_type": "code",
   "execution_count": null,
   "metadata": {},
   "outputs": [],
   "source": [
    "# AUGMENTATION FOR FEATURES\n",
    "\n",
    "size = np.shape(training_data_1)[0]\n",
    "\n",
    "training_data_test = training_data_1\n",
    "for i in range(0, size+1):\n",
    "    label = training_data_1[i][1]\n",
    "    if label == 1.0:\n",
    "        vmap = training_data_1[0][0]\n",
    "        for a in range(1,4):\n",
    "            vmap = np.rot90(vmap, k = a, axes = (0,1))\n",
    "            training_data_test.append([vmap, label, galaxy_ID])\n",
    "            \n",
    "    if label == 2.0:\n",
    "        vmap = training_data_1[0][0]\n",
    "        for a in range(1,4):\n",
    "            vmap = np.rot90(vmap, k = a, axes = (0,1))\n",
    "            training_data_test.append([vmap, label, galaxy_ID])"
   ]
  },
  {
   "cell_type": "code",
   "execution_count": 134,
   "metadata": {},
   "outputs": [],
   "source": [
    "X = []\n",
    "X1 = []\n",
    "Y = []\n",
    "Z = []\n",
    "\n",
    "\n",
    "for maps, sigmaps, labels, catids, in training_data_3:\n",
    "    X.append(maps)\n",
    "    X1.append(sigmaps)\n",
    "    Y.append(labels)\n",
    "    Z.append(catids)\n",
    "\n",
    "X = np.array(X).reshape(-1, 50,50, 1)\n",
    "X1 = np.array(X1).reshape(-1, 50,50, 1)\n",
    "Y = np.array(Y)\n",
    "Z = np.array(Z)"
   ]
  },
  {
   "cell_type": "code",
   "execution_count": 126,
   "metadata": {},
   "outputs": [
    {
     "data": {
      "text/plain": [
       "(array([29], dtype=int64),)"
      ]
     },
     "execution_count": 126,
     "metadata": {},
     "output_type": "execute_result"
    }
   ],
   "source": [
    "np.where(Z == 54270)"
   ]
  },
  {
   "cell_type": "code",
   "execution_count": 49,
   "metadata": {},
   "outputs": [],
   "source": [
    "Y = np.where(Y > 1, 1, 0)"
   ]
  },
  {
   "cell_type": "code",
   "execution_count": 50,
   "metadata": {},
   "outputs": [
    {
     "data": {
      "text/plain": [
       "(array([131.,   0.,   0.,   0.,   0.,   0.,   0.,   0.,   0., 359.]),\n",
       " array([0. , 0.1, 0.2, 0.3, 0.4, 0.5, 0.6, 0.7, 0.8, 0.9, 1. ]),\n",
       " <BarContainer object of 10 artists>)"
      ]
     },
     "execution_count": 50,
     "metadata": {},
     "output_type": "execute_result"
    },
    {
     "data": {
      "image/png": "[encoded data removed]",
      "text/plain": [
       "<Figure size 432x288 with 1 Axes>"
      ]
     },
     "metadata": {
      "needs_background": "light"
     },
     "output_type": "display_data"
    }
   ],
   "source": [
    "plt.hist(Y)"
   ]
  },
  {
   "cell_type": "code",
   "execution_count": 135,
   "metadata": {},
   "outputs": [],
   "source": [
    "X_vals_classified = np.save('C:\\\\Users\\\\hepbu\\\\Documents\\\\2021\\\\Honours Project\\\\SAMI DATA\\\\TRAINING_DATA\\\\veltrain_sigscale_2809', X)\n",
    "# X1_vals_classified = np.save('C:\\\\Users\\\\hepbu\\\\Documents\\\\2021\\\\Honours Project\\\\SAMI DATA\\\\TRAINING_DATA\\\\sigtrain_2809', X1)\n",
    "# Y_vals_classified = np.save('C:\\\\Users\\\\hepbu\\\\Documents\\\\2021\\\\Honours Project\\\\SAMI DATA\\\\TRAINING_DATA\\\\label_human_190921', Y)\n",
    "# Z_vals_classified = np.save('C:\\\\Users\\\\hepbu\\\\Documents\\\\2021\\\\Honours Project\\\\SAMI DATA\\\\TRAINING_DATA\\\\catid_ext_human_190921', Z)\n"
   ]
  },
  {
   "cell_type": "code",
   "execution_count": null,
   "metadata": {},
   "outputs": [],
   "source": [
    "X_vals_classified = np.save('C:\\\\Users\\\\hepbu\\\\Documents\\\\2021\\\\Honours Project\\\\SAMI DATA\\\\TRAINING_DATA\\\\voranoid_vel_140721', X)\n",
    "X1_vals_classified = np.save('C:\\\\Users\\\\hepbu\\\\Documents\\\\2021\\\\Honours Project\\\\SAMI DATA\\\\TRAINING_DATA\\\\voranoid_sig_140721', X1)\n",
    "Y_vals_classified = np.save('C:\\\\Users\\\\hepbu\\\\Documents\\\\2021\\\\Honours Project\\\\SAMI DATA\\\\TRAINING_DATA\\\\voranoid_label_140721', Y)\n",
    "Z_vals_classified = np.save('C:\\\\Users\\\\hepbu\\\\Documents\\\\2021\\\\Honours Project\\\\SAMI DATA\\\\TRAINING_DATA\\\\catid_ext_140721', Z)"
   ]
  },
  {
   "cell_type": "code",
   "execution_count": 57,
   "metadata": {},
   "outputs": [],
   "source": [
    "X_vals_classified = np.save('C:\\\\Users\\\\hepbu\\\\Documents\\\\2021\\\\Honours Project\\\\SAMI DATA\\\\TRAINING_DATA\\\\vel_sigscale_notrain2109', X)"
   ]
  },
  {
   "cell_type": "code",
   "execution_count": 31,
   "metadata": {},
   "outputs": [
    {
     "data": {
      "text/plain": [
       "(1242, 50, 50, 1)"
      ]
     },
     "execution_count": 31,
     "metadata": {},
     "output_type": "execute_result"
    }
   ],
   "source": [
    "np.shape(X)"
   ]
  },
  {
   "cell_type": "code",
   "execution_count": null,
   "metadata": {},
   "outputs": [],
   "source": []
  }
 ],
 "metadata": {
  "kernelspec": {
   "display_name": "Python 3",
   "language": "python",
   "name": "python3"
  },
  "language_info": {
   "codemirror_mode": {
    "name": "ipython",
    "version": 3
   },
   "file_extension": ".py",
   "mimetype": "text/x-python",
   "name": "python",
   "nbconvert_exporter": "python",
   "pygments_lexer": "ipython3",
   "version": "3.7.10"
  }
 },
 "nbformat": 4,
 "nbformat_minor": 4
}
