{
 "cells": [
  {
   "cell_type": "code",
   "execution_count": 2,
   "metadata": {},
   "outputs": [],
   "source": [
    "import numpy as np\n",
    "import matplotlib.pyplot as plt\n",
    "import matplotlib\n",
    "from matplotlib.colors import BoundaryNorm\n",
    "from astropy.io import fits\n",
    "from matplotlib import ticker\n",
    "from pathlib import Path\n",
    "import os\n",
    "from matplotlib.backends.backend_pdf import PdfPages\n",
    "from astropy.visualization import make_lupton_rgb\n",
    "from astropy.visualization import SqrtStretch\n",
    "from astropy.visualization import ZScaleInterval\n",
    "import glob"
   ]
  },
  {
   "cell_type": "code",
   "execution_count": 206,
   "metadata": {},
   "outputs": [
    {
     "data": {
      "text/plain": [
       "'C:\\\\Users\\\\hepbu\\\\Documents\\\\2021\\\\Honours Project\\\\SAMI DATA'"
      ]
     },
     "execution_count": 206,
     "metadata": {},
     "output_type": "execute_result"
    }
   ],
   "source": [
    "os.getcwd()"
   ]
  },
  {
   "cell_type": "code",
   "execution_count": 4,
   "metadata": {},
   "outputs": [],
   "source": [
    "os.chdir('02_sdss_clusters')"
   ]
  },
  {
   "cell_type": "code",
   "execution_count": 5,
   "metadata": {},
   "outputs": [],
   "source": [
    "images = glob.glob('*.fits')"
   ]
  },
  {
   "cell_type": "code",
   "execution_count": 6,
   "metadata": {},
   "outputs": [
    {
     "data": {
      "text/plain": [
       "'9008500007_sdss_60.fits'"
      ]
     },
     "execution_count": 6,
     "metadata": {},
     "output_type": "execute_result"
    }
   ],
   "source": [
    "images[5]"
   ]
  },
  {
   "cell_type": "code",
   "execution_count": 360,
   "metadata": {},
   "outputs": [],
   "source": [
    "hdul1 = fits.open(images[0])\n",
    "hdul2 = fits.open(images[1])\n",
    "hdul3 = fits.open(images[2])\n",
    "hdul4 = fits.open(images[3])"
   ]
  },
  {
   "cell_type": "code",
   "execution_count": 362,
   "metadata": {},
   "outputs": [],
   "source": [
    "pixel_scale_ra_1 = hdul1[0].header['CD2_1']*3600\n",
    "pixel_scale_dec_1 = hdul1[0].header['CD1_2']*3600\n",
    "pixel_scale_ra_2 = hdul2[0].header['CD2_1']*3600\n",
    "pixel_scale_dec_2 = hdul2[0].header['CD1_2']*3600\n",
    "pixel_scale_ra_3 = hdul3[0].header['CD2_1']*3600\n",
    "pixel_scale_dec_3 = hdul3[0].header['CD1_2']*3600\n",
    "pixel_scale_ra_4 = hdul4[0].header['CD2_1']*3600\n",
    "pixel_scale_dec_4 = hdul4[0].header['CD1_2']*3600"
   ]
  },
  {
   "cell_type": "code",
   "execution_count": 365,
   "metadata": {},
   "outputs": [
    {
     "data": {
      "text/plain": [
       "0.39587348678400003"
      ]
     },
     "execution_count": 365,
     "metadata": {},
     "output_type": "execute_result"
    }
   ],
   "source": [
    "pixel_scale_dec_2"
   ]
  },
  {
   "cell_type": "code",
   "execution_count": 9,
   "metadata": {},
   "outputs": [],
   "source": [
    "hdul_img = fits.open('9011900451_sdss_60.fits')\n",
    "# images[55]"
   ]
  },
  {
   "cell_type": "code",
   "execution_count": 326,
   "metadata": {},
   "outputs": [],
   "source": [
    "forCasting = np.float_()"
   ]
  },
  {
   "cell_type": "code",
   "execution_count": 10,
   "metadata": {},
   "outputs": [],
   "source": [
    "forCasting = np.float_()\n",
    "\n",
    "g = hdul_img[1].data\n",
    "r = hdul_img[2].data\n",
    "i = hdul_img[3].data\n",
    "\n",
    "g = np.array(g,forCasting)\n",
    "r = np.array(r,forCasting)\n",
    "i = np.array(i,forCasting)\n",
    "\n",
    "g = g[0:152, 0:152]\n",
    "r = r[0:152, 0:152]\n",
    "i = i[0:152, 0:152]\n",
    "\n",
    "g = g[38:114, 38:114]\n",
    "r = r[38:114, 38:114]\n",
    "i = i[38:114, 38:114]\n",
    "\n",
    "stretch = SqrtStretch() \n",
    "\n",
    "g = stretch(g)\n",
    "r = stretch(r)\n",
    "i = stretch(i)\n",
    "\n",
    "rgb_default = make_lupton_rgb(i ,r ,g, Q= 1, stretch = 1)\n",
    "img = np.swapaxes(rgb_default,0,1)"
   ]
  },
  {
   "cell_type": "code",
   "execution_count": 356,
   "metadata": {},
   "outputs": [
    {
     "name": "stdout",
     "output_type": "stream",
     "text": [
      "0.39604952843999996\n",
      "0.3959137460664\n",
      "0.3959137460664\n",
      "0.39604952843999996\n"
     ]
    }
   ],
   "source": [
    "pixel_scale_ra = hdul_img[0].header['CD2_1']*3600\n",
    "pixel_scale_dec = hdul_img[0].header['CD1_2']*3600\n",
    "print(pixel_scale_ra)\n",
    "print(pixel_scale_dec)\n",
    "print(hdul[0].header['CD1_2']*3600)\n",
    "print(hdul[0].header['CD2_1']*3600)"
   ]
  },
  {
   "cell_type": "code",
   "execution_count": 351,
   "metadata": {},
   "outputs": [
    {
     "data": {
      "text/plain": [
       "75.74810180475922"
      ]
     },
     "execution_count": 351,
     "metadata": {},
     "output_type": "execute_result"
    }
   ],
   "source": [
    "n1 = 30/pixel_scale_ra\n",
    "n2 = 30/pixel_scale_dec"
   ]
  },
  {
   "cell_type": "code",
   "execution_count": null,
   "metadata": {},
   "outputs": [],
   "source": []
  },
  {
   "cell_type": "code",
   "execution_count": 27,
   "metadata": {},
   "outputs": [
    {
     "data": {
      "text/plain": [
       "<matplotlib.image.AxesImage at 0x1f2c43a84c8>"
      ]
     },
     "execution_count": 27,
     "metadata": {},
     "output_type": "execute_result"
    },
    {
     "data": {
      "image/png": "[encoded data removed]",
      "text/plain": [
       "<Figure size 432x288 with 1 Axes>"
      ]
     },
     "metadata": {
      "needs_background": "light"
     },
     "output_type": "display_data"
    }
   ],
   "source": [
    "rgb_default = make_lupton_rgb(i ,r ,g, Q= 1, stretch = 1.4)\n",
    "rgb_new = np.swapaxes(rgb_default,0,1)\n",
    "plt.imshow(rgb_new)"
   ]
  }
 ],
 "metadata": {
  "kernelspec": {
   "display_name": "Python 3",
   "language": "python",
   "name": "python3"
  },
  "language_info": {
   "codemirror_mode": {
    "name": "ipython",
    "version": 3
   },
   "file_extension": ".py",
   "mimetype": "text/x-python",
   "name": "python",
   "nbconvert_exporter": "python",
   "pygments_lexer": "ipython3",
   "version": "3.7.10"
  }
 },
 "nbformat": 4,
 "nbformat_minor": 4
}
